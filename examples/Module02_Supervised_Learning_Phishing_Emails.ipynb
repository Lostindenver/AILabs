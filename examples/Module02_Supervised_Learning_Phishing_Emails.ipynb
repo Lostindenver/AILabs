{
 "cells": [
  {
   "cell_type": "markdown",
   "metadata": {},
   "source": [
    "<a href=\"https://colab.research.google.com/github/RiverGumSecurity/AILabs/blob/main/examples/PandasExample.ipynb\" target=\"_parent\"><img src=\"https://colab.research.google.com/assets/colab-badge.svg\" alt=\"Open In Colab\"/></a>"
   ]
  },
  {
   "cell_type": "markdown",
   "metadata": {},
   "source": [
    "# Supervised Learning with Phishing Email Data\n",
    "\n",
    "This notebook explores core concepts and and provides examples of supervised machine learning. We will use phishing emails as a dataset and compare statistcal learning methods, such as Logistic Regression, Decision Tree, Naive Bayes and more.\n",
    "\n",
    "The phishing vs. not-phishing, or spam vs. ham, is a binary classification problem. This is where we have two classes of data and we want to categorize each data point into one of two distinct classes based on their features.  The data set we will work with is pre-labeled into each category so that we can train and test our machine learning models, otherwise we would need to do this step ourselves (which would be time consuming).\n",
    "\n",
    "The overall process is to:\n",
    "\n",
    "- Obtain data and label each category (this is already done)\n",
    "\n",
    "- Import data into Pandas dataframe to facilitate data cleaning, processing, and feature creation\n",
    "\n",
    "- Create features from the data by converting text to vectors of numbers and spliting the data into training and test sets\n",
    "\n",
    "- Fit the data to a model to test, this where the machine learns the optimal algorithm to classify the data as one category or the other\n",
    "\n",
    "- Evaluate and interpret the model results\n",
    "\n",
    "\n",
    "Once we have selected the best performing model, the next step would be to implement it. We will not be performing that step, that's a whole new set of software design problems outside the scope of the course.  But we can get a good grasp the heart of the solutions in use today by evaluating ML models.\n",
    "\n",
    "What ML models are good choices for this type binary classification problem?  There are quite a few each with their own pros and cons, here are some examples:\n",
    "\n",
    "- **Logistic Regression:** A linear model for binary classification that estimates the probability that a given input belongs to a certain class\n",
    "\n",
    "- **Support Vector Machine (SVM):** Finds the hyperplane that best separates the two classes by maximizing the margin between them\n",
    "\n",
    "- **Decision Tree:** Flowchart-like structure where each internal node represents a decision based on a feature, each branch represents the outcome of the decision, and each leaf node represents a class label\n",
    "\n",
    "- **Random Forrest:** Ensemble method that builds multiple decision trees (usually trained with the \"bagging\" method) and merges their results to improve accuracy and control overfitting\n",
    "\n",
    "- **Naive Bayes:** Based on Bayes' theorem with the assumption of independence between predictors\n",
    "\n",
    "- **Gradient Boosting Machine (GMB):** - Ensemble technique that builds models sequentially each one correcting the errors of the previous ones\n",
    "\n"
   ]
  },
  {
   "cell_type": "code",
   "execution_count": 1,
   "metadata": {},
   "outputs": [],
   "source": [
    "# import libraries\n",
    "import numpy as np\n",
    "import pandas as pd\n",
    "import nltk\n",
    "import seaborn as sns\n",
    "import plotly.express as px\n",
    "import matplotlib.pyplot as plt\n",
    "import datetime\n",
    "import os \n",
    "import re\n",
    "from sklearn.preprocessing import LabelEncoder\n",
    "from sklearn.metrics import accuracy_score,f1_score,classification_report,ConfusionMatrixDisplay,confusion_matrix\n",
    "from sklearn.feature_extraction.text import TfidfVectorizer,CountVectorizer\n",
    "from sklearn.svm import LinearSVC\n",
    "from sklearn.tree import DecisionTreeClassifier\n",
    "from sklearn.ensemble import RandomForestClassifier\n",
    "from sklearn.linear_model import LogisticRegression\n",
    "from sklearn.naive_bayes import MultinomialNB\n",
    "from sklearn.tree import DecisionTreeClassifier\n",
    "from sklearn.ensemble import RandomForestClassifier\n",
    "from sklearn.ensemble import GradientBoostingClassifier\n",
    "from sklearn.neural_network import MLPClassifier\n",
    "from sklearn.model_selection import train_test_split\n",
    "from sklearn.metrics import roc_curve, auc, roc_auc_score\n",
    "import warnings"
   ]
  },
  {
   "cell_type": "code",
   "execution_count": 2,
   "metadata": {},
   "outputs": [],
   "source": [
    "# Set numpy random seed for reproducible numbers\n",
    "np.random.seed(42)"
   ]
  },
  {
   "cell_type": "code",
   "execution_count": 3,
   "metadata": {},
   "outputs": [
    {
     "name": "stdout",
     "output_type": "stream",
     "text": [
      "[name: \"/device:CPU:0\"\n",
      "device_type: \"CPU\"\n",
      "memory_limit: 268435456\n",
      "locality {\n",
      "}\n",
      "incarnation: 285397105788507206\n",
      "xla_global_id: -1\n",
      "]\n"
     ]
    }
   ],
   "source": [
    "# Detect GPU device\n",
    "from tensorflow.python.client import device_lib\n",
    "print(device_lib.list_local_devices())"
   ]
  },
  {
   "cell_type": "code",
   "execution_count": null,
   "metadata": {},
   "outputs": [],
   "source": []
  },
  {
   "cell_type": "markdown",
   "metadata": {},
   "source": [
    "## Dataset\n",
    "\n",
    "The dataset that will be used to train and test the different models was from https://www.kaggle.com/datasets/subhajournal/phishingemails.  It was pre-labeled as \"Safe Email\" or \"Phishing Email\".  The data will be cleaned and prepared for training machine learning models with Pandas.\n"
   ]
  },
  {
   "cell_type": "code",
   "execution_count": 4,
   "metadata": {},
   "outputs": [
    {
     "data": {
      "text/html": [
       "<div>\n",
       "<style scoped>\n",
       "    .dataframe tbody tr th:only-of-type {\n",
       "        vertical-align: middle;\n",
       "    }\n",
       "\n",
       "    .dataframe tbody tr th {\n",
       "        vertical-align: top;\n",
       "    }\n",
       "\n",
       "    .dataframe thead th {\n",
       "        text-align: right;\n",
       "    }\n",
       "</style>\n",
       "<table border=\"1\" class=\"dataframe\">\n",
       "  <thead>\n",
       "    <tr style=\"text-align: right;\">\n",
       "      <th></th>\n",
       "      <th>Unnamed: 0</th>\n",
       "      <th>Email Text</th>\n",
       "      <th>Email Type</th>\n",
       "    </tr>\n",
       "  </thead>\n",
       "  <tbody>\n",
       "    <tr>\n",
       "      <th>0</th>\n",
       "      <td>0</td>\n",
       "      <td>re : 6 . 1100 , disc : uniformitarianism , re ...</td>\n",
       "      <td>Safe Email</td>\n",
       "    </tr>\n",
       "    <tr>\n",
       "      <th>1</th>\n",
       "      <td>1</td>\n",
       "      <td>the other side of * galicismos * * galicismo *...</td>\n",
       "      <td>Safe Email</td>\n",
       "    </tr>\n",
       "    <tr>\n",
       "      <th>2</th>\n",
       "      <td>2</td>\n",
       "      <td>re : equistar deal tickets are you still avail...</td>\n",
       "      <td>Safe Email</td>\n",
       "    </tr>\n",
       "    <tr>\n",
       "      <th>3</th>\n",
       "      <td>3</td>\n",
       "      <td>\\nHello I am your hot lil horny toy.\\n    I am...</td>\n",
       "      <td>Phishing Email</td>\n",
       "    </tr>\n",
       "    <tr>\n",
       "      <th>4</th>\n",
       "      <td>4</td>\n",
       "      <td>software at incredibly low prices ( 86 % lower...</td>\n",
       "      <td>Phishing Email</td>\n",
       "    </tr>\n",
       "    <tr>\n",
       "      <th>5</th>\n",
       "      <td>5</td>\n",
       "      <td>global risk management operations sally congra...</td>\n",
       "      <td>Safe Email</td>\n",
       "    </tr>\n",
       "    <tr>\n",
       "      <th>6</th>\n",
       "      <td>6</td>\n",
       "      <td>On Sun, Aug 11, 2002 at 11:17:47AM +0100, wint...</td>\n",
       "      <td>Safe Email</td>\n",
       "    </tr>\n",
       "    <tr>\n",
       "      <th>7</th>\n",
       "      <td>7</td>\n",
       "      <td>entourage , stockmogul newsletter ralph velez ...</td>\n",
       "      <td>Phishing Email</td>\n",
       "    </tr>\n",
       "    <tr>\n",
       "      <th>8</th>\n",
       "      <td>8</td>\n",
       "      <td>we owe you lots of money dear applicant , afte...</td>\n",
       "      <td>Phishing Email</td>\n",
       "    </tr>\n",
       "    <tr>\n",
       "      <th>9</th>\n",
       "      <td>9</td>\n",
       "      <td>re : coastal deal - with exxon participation u...</td>\n",
       "      <td>Safe Email</td>\n",
       "    </tr>\n",
       "  </tbody>\n",
       "</table>\n",
       "</div>"
      ],
      "text/plain": [
       "   Unnamed: 0                                         Email Text  \\\n",
       "0           0  re : 6 . 1100 , disc : uniformitarianism , re ...   \n",
       "1           1  the other side of * galicismos * * galicismo *...   \n",
       "2           2  re : equistar deal tickets are you still avail...   \n",
       "3           3  \\nHello I am your hot lil horny toy.\\n    I am...   \n",
       "4           4  software at incredibly low prices ( 86 % lower...   \n",
       "5           5  global risk management operations sally congra...   \n",
       "6           6  On Sun, Aug 11, 2002 at 11:17:47AM +0100, wint...   \n",
       "7           7  entourage , stockmogul newsletter ralph velez ...   \n",
       "8           8  we owe you lots of money dear applicant , afte...   \n",
       "9           9  re : coastal deal - with exxon participation u...   \n",
       "\n",
       "       Email Type  \n",
       "0      Safe Email  \n",
       "1      Safe Email  \n",
       "2      Safe Email  \n",
       "3  Phishing Email  \n",
       "4  Phishing Email  \n",
       "5      Safe Email  \n",
       "6      Safe Email  \n",
       "7  Phishing Email  \n",
       "8  Phishing Email  \n",
       "9      Safe Email  "
      ]
     },
     "execution_count": 4,
     "metadata": {},
     "output_type": "execute_result"
    }
   ],
   "source": [
    "# Read in the data into a Pandas dataframe\n",
    "#df = pd.read_csv('https://raw.githubusercontent.com/RiverGumSecurity/AILabs/main/datasets/Phishing_Email.csv')\n",
    "\n",
    "df = pd.read_csv('../datasets/Phishing_Email.csv')\n",
    "df.head(10)"
   ]
  },
  {
   "cell_type": "code",
   "execution_count": 5,
   "metadata": {},
   "outputs": [
    {
     "name": "stdout",
     "output_type": "stream",
     "text": [
      "<class 'pandas.core.frame.DataFrame'>\n",
      "RangeIndex: 18650 entries, 0 to 18649\n",
      "Data columns (total 3 columns):\n",
      " #   Column      Non-Null Count  Dtype \n",
      "---  ------      --------------  ----- \n",
      " 0   Unnamed: 0  18650 non-null  int64 \n",
      " 1   Email Text  18634 non-null  object\n",
      " 2   Email Type  18650 non-null  object\n",
      "dtypes: int64(1), object(2)\n",
      "memory usage: 437.2+ KB\n"
     ]
    }
   ],
   "source": [
    "# Print information on the dataframe\n",
    "df.info()"
   ]
  },
  {
   "cell_type": "code",
   "execution_count": 6,
   "metadata": {},
   "outputs": [
    {
     "data": {
      "text/plain": [
       "Unnamed: 0     0\n",
       "Email Text    16\n",
       "Email Type     0\n",
       "dtype: int64"
      ]
     },
     "execution_count": 6,
     "metadata": {},
     "output_type": "execute_result"
    }
   ],
   "source": [
    "# Find null values in the data - these can cause issues for computation later in the notebook\n",
    "df.isna().sum()"
   ]
  },
  {
   "cell_type": "code",
   "execution_count": 7,
   "metadata": {},
   "outputs": [],
   "source": [
    "# Drop null values in place, drop Unamed:0 column, drop duplicates\n",
    "df.drop(['Unnamed: 0'],axis=1,inplace=True)\n",
    "df.dropna(inplace=True,axis=0)\n",
    "df.drop_duplicates(inplace=True)"
   ]
  },
  {
   "cell_type": "code",
   "execution_count": 8,
   "metadata": {},
   "outputs": [
    {
     "data": {
      "text/plain": [
       "(17538, 2)"
      ]
     },
     "execution_count": 8,
     "metadata": {},
     "output_type": "execute_result"
    }
   ],
   "source": [
    "# Show the shape of the data\n",
    "df.shape"
   ]
  },
  {
   "cell_type": "code",
   "execution_count": 9,
   "metadata": {},
   "outputs": [
    {
     "data": {
      "text/html": [
       "<div>\n",
       "<style scoped>\n",
       "    .dataframe tbody tr th:only-of-type {\n",
       "        vertical-align: middle;\n",
       "    }\n",
       "\n",
       "    .dataframe tbody tr th {\n",
       "        vertical-align: top;\n",
       "    }\n",
       "\n",
       "    .dataframe thead th {\n",
       "        text-align: right;\n",
       "    }\n",
       "</style>\n",
       "<table border=\"1\" class=\"dataframe\">\n",
       "  <thead>\n",
       "    <tr style=\"text-align: right;\">\n",
       "      <th></th>\n",
       "      <th>Email Text</th>\n",
       "      <th>Email Type</th>\n",
       "    </tr>\n",
       "  </thead>\n",
       "  <tbody>\n",
       "    <tr>\n",
       "      <th>0</th>\n",
       "      <td>re : 6 . 1100 , disc : uniformitarianism , re ...</td>\n",
       "      <td>Safe Email</td>\n",
       "    </tr>\n",
       "    <tr>\n",
       "      <th>1</th>\n",
       "      <td>the other side of * galicismos * * galicismo *...</td>\n",
       "      <td>Safe Email</td>\n",
       "    </tr>\n",
       "    <tr>\n",
       "      <th>2</th>\n",
       "      <td>re : equistar deal tickets are you still avail...</td>\n",
       "      <td>Safe Email</td>\n",
       "    </tr>\n",
       "    <tr>\n",
       "      <th>3</th>\n",
       "      <td>\\nHello I am your hot lil horny toy.\\n    I am...</td>\n",
       "      <td>Phishing Email</td>\n",
       "    </tr>\n",
       "    <tr>\n",
       "      <th>4</th>\n",
       "      <td>software at incredibly low prices ( 86 % lower...</td>\n",
       "      <td>Phishing Email</td>\n",
       "    </tr>\n",
       "    <tr>\n",
       "      <th>5</th>\n",
       "      <td>global risk management operations sally congra...</td>\n",
       "      <td>Safe Email</td>\n",
       "    </tr>\n",
       "    <tr>\n",
       "      <th>6</th>\n",
       "      <td>On Sun, Aug 11, 2002 at 11:17:47AM +0100, wint...</td>\n",
       "      <td>Safe Email</td>\n",
       "    </tr>\n",
       "    <tr>\n",
       "      <th>7</th>\n",
       "      <td>entourage , stockmogul newsletter ralph velez ...</td>\n",
       "      <td>Phishing Email</td>\n",
       "    </tr>\n",
       "    <tr>\n",
       "      <th>8</th>\n",
       "      <td>we owe you lots of money dear applicant , afte...</td>\n",
       "      <td>Phishing Email</td>\n",
       "    </tr>\n",
       "    <tr>\n",
       "      <th>9</th>\n",
       "      <td>re : coastal deal - with exxon participation u...</td>\n",
       "      <td>Safe Email</td>\n",
       "    </tr>\n",
       "  </tbody>\n",
       "</table>\n",
       "</div>"
      ],
      "text/plain": [
       "                                          Email Text      Email Type\n",
       "0  re : 6 . 1100 , disc : uniformitarianism , re ...      Safe Email\n",
       "1  the other side of * galicismos * * galicismo *...      Safe Email\n",
       "2  re : equistar deal tickets are you still avail...      Safe Email\n",
       "3  \\nHello I am your hot lil horny toy.\\n    I am...  Phishing Email\n",
       "4  software at incredibly low prices ( 86 % lower...  Phishing Email\n",
       "5  global risk management operations sally congra...      Safe Email\n",
       "6  On Sun, Aug 11, 2002 at 11:17:47AM +0100, wint...      Safe Email\n",
       "7  entourage , stockmogul newsletter ralph velez ...  Phishing Email\n",
       "8  we owe you lots of money dear applicant , afte...  Phishing Email\n",
       "9  re : coastal deal - with exxon participation u...      Safe Email"
      ]
     },
     "execution_count": 9,
     "metadata": {},
     "output_type": "execute_result"
    }
   ],
   "source": [
    "# Display cleaned dataframe\n",
    "df.head(10)"
   ]
  },
  {
   "cell_type": "code",
   "execution_count": 10,
   "metadata": {},
   "outputs": [
    {
     "data": {
      "text/plain": [
       "Email Type\n",
       "Safe Email        10980\n",
       "Phishing Email     6558\n",
       "Name: count, dtype: int64"
      ]
     },
     "execution_count": 10,
     "metadata": {},
     "output_type": "execute_result"
    }
   ],
   "source": [
    "# Display the count of Email types, a Safe Email or a Phishing Email\n",
    "df['Email Type'].value_counts()"
   ]
  },
  {
   "cell_type": "code",
   "execution_count": 11,
   "metadata": {},
   "outputs": [
    {
     "data": {
      "text/plain": [
       "<Axes: xlabel='Email Type'>"
      ]
     },
     "execution_count": 11,
     "metadata": {},
     "output_type": "execute_result"
    },
    {
     "data": {
      "image/png": "[encoded data removed]",
      "text/plain": [
       "<Figure size 640x480 with 1 Axes>"
      ]
     },
     "metadata": {},
     "output_type": "display_data"
    }
   ],
   "source": [
    "# Plot counts of Safe Email vs Phishing Email\n",
    "df['Email Type'].value_counts().plot(kind='bar')"
   ]
  },
  {
   "cell_type": "markdown",
   "metadata": {},
   "source": [
    "Now we need to further process and clean the data. This is a binary classification problem, and we need to assign a label (a 1 or a 0) to the email categories. Then we will remove URLS and non word characters from the emails - we are interested in the similarities of the text itself.  Then we lowercase all of the characters, convert all multiple whitespace characters to single whitespace, and remove any trailing whitespaces."
   ]
  },
  {
   "cell_type": "code",
   "execution_count": 12,
   "metadata": {},
   "outputs": [],
   "source": [
    "# Label Email Type\n",
    "lbl = LabelEncoder()\n",
    "df['Email Type'] = lbl.fit_transform(df['Email Type'])"
   ]
  },
  {
   "cell_type": "code",
   "execution_count": 13,
   "metadata": {},
   "outputs": [],
   "source": [
    "# Function to preprocess text.\n",
    "def preprocess_text(text):\n",
    "    text = re.sub(r'http\\S+', '', text)\n",
    "    text = re.sub(r'[^\\w\\s]', '', text)\n",
    "    text = text.lower()\n",
    "    text = re.sub(r'\\s+', ' ', text).strip()\n",
    "    return text\n",
    "df['Email Text']=df['Email Text'].apply(preprocess_text)"
   ]
  },
  {
   "cell_type": "code",
   "execution_count": 14,
   "metadata": {},
   "outputs": [
    {
     "data": {
      "text/html": [
       "<div>\n",
       "<style scoped>\n",
       "    .dataframe tbody tr th:only-of-type {\n",
       "        vertical-align: middle;\n",
       "    }\n",
       "\n",
       "    .dataframe tbody tr th {\n",
       "        vertical-align: top;\n",
       "    }\n",
       "\n",
       "    .dataframe thead th {\n",
       "        text-align: right;\n",
       "    }\n",
       "</style>\n",
       "<table border=\"1\" class=\"dataframe\">\n",
       "  <thead>\n",
       "    <tr style=\"text-align: right;\">\n",
       "      <th></th>\n",
       "      <th>Email Text</th>\n",
       "      <th>Email Type</th>\n",
       "    </tr>\n",
       "  </thead>\n",
       "  <tbody>\n",
       "    <tr>\n",
       "      <th>0</th>\n",
       "      <td>re 6 1100 disc uniformitarianism re 1086 sex l...</td>\n",
       "      <td>1</td>\n",
       "    </tr>\n",
       "    <tr>\n",
       "      <th>1</th>\n",
       "      <td>the other side of galicismos galicismo is a sp...</td>\n",
       "      <td>1</td>\n",
       "    </tr>\n",
       "    <tr>\n",
       "      <th>2</th>\n",
       "      <td>re equistar deal tickets are you still availab...</td>\n",
       "      <td>1</td>\n",
       "    </tr>\n",
       "    <tr>\n",
       "      <th>3</th>\n",
       "      <td>hello i am your hot lil horny toy i am the one...</td>\n",
       "      <td>0</td>\n",
       "    </tr>\n",
       "    <tr>\n",
       "      <th>4</th>\n",
       "      <td>software at incredibly low prices 86 lower dra...</td>\n",
       "      <td>0</td>\n",
       "    </tr>\n",
       "    <tr>\n",
       "      <th>5</th>\n",
       "      <td>global risk management operations sally congra...</td>\n",
       "      <td>1</td>\n",
       "    </tr>\n",
       "    <tr>\n",
       "      <th>6</th>\n",
       "      <td>on sun aug 11 2002 at 111747am 0100 wintermute...</td>\n",
       "      <td>1</td>\n",
       "    </tr>\n",
       "    <tr>\n",
       "      <th>7</th>\n",
       "      <td>entourage stockmogul newsletter ralph velez ge...</td>\n",
       "      <td>0</td>\n",
       "    </tr>\n",
       "    <tr>\n",
       "      <th>8</th>\n",
       "      <td>we owe you lots of money dear applicant after ...</td>\n",
       "      <td>0</td>\n",
       "    </tr>\n",
       "    <tr>\n",
       "      <th>9</th>\n",
       "      <td>re coastal deal with exxon participation under...</td>\n",
       "      <td>1</td>\n",
       "    </tr>\n",
       "  </tbody>\n",
       "</table>\n",
       "</div>"
      ],
      "text/plain": [
       "                                          Email Text  Email Type\n",
       "0  re 6 1100 disc uniformitarianism re 1086 sex l...           1\n",
       "1  the other side of galicismos galicismo is a sp...           1\n",
       "2  re equistar deal tickets are you still availab...           1\n",
       "3  hello i am your hot lil horny toy i am the one...           0\n",
       "4  software at incredibly low prices 86 lower dra...           0\n",
       "5  global risk management operations sally congra...           1\n",
       "6  on sun aug 11 2002 at 111747am 0100 wintermute...           1\n",
       "7  entourage stockmogul newsletter ralph velez ge...           0\n",
       "8  we owe you lots of money dear applicant after ...           0\n",
       "9  re coastal deal with exxon participation under...           1"
      ]
     },
     "execution_count": 14,
     "metadata": {},
     "output_type": "execute_result"
    }
   ],
   "source": [
    "df.head(10)"
   ]
  },
  {
   "cell_type": "markdown",
   "metadata": {},
   "source": [
    "## Convert Text to Numerical Vectory (create features)\n",
    "\n",
    "Now we convert the text into a TF-IDF (Term Frequencey Inverse Document Frequency) matrix. This a statistical measure that evaluates how relevant a word is to a document in a collection of documents. It combines two metrics: the number of times a word appears in a document (term frequency) and the inverse document frequency of the word across the entire set of documents where each email is a document.\n",
    "\n",
    "https://scikit-learn.org/stable/modules/generated/sklearn.feature_extraction.text.TfidfVectorizer.html\n",
    "\n",
    "The Email Type columns is then converted into a numpy array.  Data from both calculations is stored in a class object."
   ]
  },
  {
   "cell_type": "code",
   "execution_count": 15,
   "metadata": {},
   "outputs": [],
   "source": [
    "# Convert email text to an array of vectors, removing stop words\n",
    "tf = TfidfVectorizer(stop_words='english',max_features=10000) #dimension reduction\n",
    "feature_x = tf.fit_transform(df['Email Text']).toarray()\n",
    "\n",
    "# convert the label into numpy array\n",
    "y_tf = np.array(df['Email Type']) "
   ]
  },
  {
   "cell_type": "code",
   "execution_count": 16,
   "metadata": {},
   "outputs": [
    {
     "name": "stdout",
     "output_type": "stream",
     "text": [
      "<class 'sklearn.feature_extraction.text.TfidfVectorizer'>\n"
     ]
    }
   ],
   "source": [
    "print(type(tf))"
   ]
  },
  {
   "cell_type": "markdown",
   "metadata": {},
   "source": [
    "## Split Data into Training and Validation Test Sets\n",
    "\n",
    "In data science and traning and testing machine learning models, it is common practice to split the data into traning and validation splits.  Usually this is an 80/20 split where 80% of the data is used for training the model, and 20% is used for validation. The validation process is used to measure the accuracy of the model using various statistical measurements."
   ]
  },
  {
   "cell_type": "code",
   "execution_count": 17,
   "metadata": {},
   "outputs": [],
   "source": [
    "#split dataset into training and testing data groups, 80 percent training, 20 percent testing\n",
    "X_tr,X_tst,y_tr,y_tst = train_test_split(feature_x,y_tf,test_size=0.2,random_state=0)"
   ]
  },
  {
   "cell_type": "markdown",
   "metadata": {},
   "source": [
    "## Logistic Regression\n",
    "\n",
    "Now that we have split our data into traning and validation sets, we are ready for our first machine learning model that will be able to tell if an email is phishing or not based on the text of the email.  The first model we will explore is Logistic Regression.\n",
    "\n",
    "Logistic regression is a statistical method used for binary classification, where the goal is to predict the probability that a given input belongs to one of two categories. It models the relationship between a dependent binary variable and one or more independent variables using the logistic function, producing an output between 0 and 1. This output can then be thresholded to classify the input into one of the two categories.\n",
    "\n",
    "A [**good explanation**](https://www.youtube.com/watch?v=yIYKR4sgzI8) of how this works can be found from the good folks at StatQuest on their YouTube channel.\n",
    "\n",
    "We will use the SciKit Learn implmentation of the [**Logistic Regression**](https://scikit-learn.org/stable/modules/generated/sklearn.linear_model.LogisticRegression.html) algorithm.\n",
    "\n",
    "\n"
   ]
  },
  {
   "cell_type": "markdown",
   "metadata": {},
   "source": [
    "## Run Logistic Regression Model"
   ]
  },
  {
   "cell_type": "code",
   "execution_count": 18,
   "metadata": {},
   "outputs": [],
   "source": [
    "# instantiate Logistic Regression class and fit the model to the data\n",
    "lg = LogisticRegression()\n",
    "lg.fit(X_tr,y_tr)\n",
    "\n",
    "# predict whether class 0 (phishing) or class 1 (not phishing)\n",
    "pred_lg = lg.predict(X_tst)"
   ]
  },
  {
   "cell_type": "markdown",
   "metadata": {},
   "source": [
    "## Interpret Logistic Regression Model \n",
    "\n",
    "A common way to score and interpret the results of a training and testing run of a machine learning model is with a classification report comparing the predictect results with the validation set (that was not used for training)."
   ]
  },
  {
   "cell_type": "code",
   "execution_count": 19,
   "metadata": {},
   "outputs": [
    {
     "name": "stdout",
     "output_type": "stream",
     "text": [
      "              precision    recall  f1-score   support\n",
      "\n",
      "           0       0.98      0.96      0.97      1351\n",
      "           1       0.98      0.99      0.98      2157\n",
      "\n",
      "    accuracy                           0.98      3508\n",
      "   macro avg       0.98      0.98      0.98      3508\n",
      "weighted avg       0.98      0.98      0.98      3508\n",
      "\n"
     ]
    }
   ],
   "source": [
    "# Caclulate the accuracy and the f1 score of the Logistic Regression model.\n",
    "# store in variables for later\n",
    "lr_accu = accuracy_score(y_tst,pred_lg)*100\n",
    "lr_f1 = f1_score(y_tst,pred_lg)*100\n",
    "\n",
    "#these two lines can probably be deleted\n",
    "#print(\"The Logistic Regression model accuracy score was \" + str(lr_accu) + \"\\n\")\n",
    "#print(\"The Logistic Regression model F1 score was \" + str(lr_f1) + \"\\n\")\n",
    "\n",
    "print(classification_report(y_tst,pred_lg))\n",
    "\n"
   ]
  },
  {
   "cell_type": "markdown",
   "metadata": {},
   "source": [
    "So how do we read and interpret this table?\n",
    "\n",
    "**Precision:** The ratio of correctly predicted positive observations to the total predicted positives. It answers the question: \"Of all the instances that the classifier labeled as positive, how many are actually positive?\"\n",
    "\n",
    "**Recall (Sensitivity):** The ratio of correctly predicted positive observations to all observations in the actual class. It answers the question: \"Of all the actual positive instances, how many were correctly predicted?\"\n",
    "\n",
    "**F1-Score:** The harmonic mean of precision and recall. It is a better measure than accuracy for imbalanced datasets.\n",
    "\n",
    "**Support:** The number of actual occurrences of the class in the dataset.\n",
    "\n",
    "**Accuracy:** The ratio of correctly predicted instances to the total instances. For this model, the accuracy is 0.98 (98%), meaning 98% of the predictions are correct.\n",
    "\n",
    "**Macro Average:** The average of precision, recall, and F1-score calculated for each class independently and then averaged. This metric treats all classes equally.\n",
    "\n",
    "**Weighted Average:** The average of precision, recall, and F1-score, weighted by the number of instances in each class (support). This metric is more representative when there is a class imbalance."
   ]
  },
  {
   "cell_type": "markdown",
   "metadata": {},
   "source": [
    "Another way tp evaluate a classification model is a confusion matrix.  This is a table showing the counts of true positive, true negative, false positive, and false negative predictions. Each row of the matrix represents the actual class, while each column represents the predicted class, allowing for a clear visualization of where the model is making correct and incorrect predictions. This helps in understanding the model's accuracy, precision, recall, and other performance metrics.\n",
    "\n",
    "**Confusion Matrix for the Logistic Regression Model**\n",
    "\n",
    "- upper left - number of emails predicted to be phishing and are actually phishing (True Positive)\n",
    "\n",
    "- upper right - number of emails predicted as not phishing that are actually phishing (False Positive)\n",
    "\n",
    "- lower left - number emails predicted to be phishing that are actually not phishing (False Negative)\n",
    "\n",
    "- lower right - number of emails predicted ast not phishing that are actually not phishing (True Negative)"
   ]
  },
  {
   "cell_type": "code",
   "execution_count": 20,
   "metadata": {},
   "outputs": [
    {
     "data": {
      "image/png": "[encoded data removed]",
      "text/plain": [
       "<Figure size 640x480 with 2 Axes>"
      ]
     },
     "metadata": {},
     "output_type": "display_data"
    }
   ],
   "source": [
    "clf_lg = confusion_matrix(y_tst,pred_lg)\n",
    "cx_ = ConfusionMatrixDisplay(clf_lg,display_labels=['phishing_mail','safe_mail']).plot()\n",
    "plt.title(\"confusion matrix\")\n",
    "plt.show()"
   ]
  },
  {
   "cell_type": "markdown",
   "metadata": {},
   "source": [
    "# Decision Tree\n",
    "\n",
    "The decision tree machine learning algorithm can be used for classification and regression tasks, we will use the [**Scikit-Learn Decision Tree**](https://scikit-learn.org/stable/modules/generated/sklearn.tree.DecisionTreeClassifier.html) module. It works by splitting the data into subsets based on the value of input features, creating a tree-like model of decisions. Each internal node represents a test on an attribute, each branch represents the outcome of the test, and each leaf node represents a class label or a continuous value.\n"
   ]
  },
  {
   "cell_type": "code",
   "execution_count": 21,
   "metadata": {},
   "outputs": [],
   "source": [
    "# instantiate DecisionTreeClassifier class and fit the model to the data\n",
    "dt = DecisionTreeClassifier()\n",
    "dt.fit(X_tr,y_tr)\n",
    "\n",
    "# predict whether class 0 (phishing) or class 1 (not phishing)\n",
    "pred_dt = dt.predict(X_tst)"
   ]
  },
  {
   "cell_type": "code",
   "execution_count": 22,
   "metadata": {},
   "outputs": [
    {
     "name": "stdout",
     "output_type": "stream",
     "text": [
      "              precision    recall  f1-score   support\n",
      "\n",
      "           0       0.90      0.93      0.91      1351\n",
      "           1       0.95      0.94      0.94      2157\n",
      "\n",
      "    accuracy                           0.93      3508\n",
      "   macro avg       0.93      0.93      0.93      3508\n",
      "weighted avg       0.93      0.93      0.93      3508\n",
      "\n"
     ]
    }
   ],
   "source": [
    "# Caclulate the accuracy and the f1 score of the Decision Tree model.\n",
    "# store in variables for later\n",
    "dt_accu = accuracy_score(y_tst,pred_dt)*100\n",
    "dt_f1 = f1_score(y_tst,pred_dt)*100\n",
    "\n",
    "\n",
    "print(classification_report(y_tst,pred_dt))"
   ]
  },
  {
   "cell_type": "code",
   "execution_count": 23,
   "metadata": {},
   "outputs": [
    {
     "data": {
      "image/png": "[encoded data removed]",
      "text/plain": [
       "<Figure size 640x480 with 2 Axes>"
      ]
     },
     "metadata": {},
     "output_type": "display_data"
    }
   ],
   "source": [
    "clf_dt = confusion_matrix(y_tst,pred_dt)\n",
    "cx_ = ConfusionMatrixDisplay(clf_dt,display_labels=['phishing_mail','safe_mail']).plot()\n",
    "plt.title(\"confusion matrix\")\n",
    "plt.show()"
   ]
  },
  {
   "cell_type": "markdown",
   "metadata": {},
   "source": [
    "## Random Forrest\n",
    "\n",
    "[**Random forest**](https://scikit-learn.org/stable/modules/generated/sklearn.ensemble.RandomForestClassifier.html) is an ensemble machine learning technique that combines multiple decision trees to improve predictive performance. It builds numerous decision trees during training and merges their outputs to make a final prediction, reducing overfitting and increasing accuracy. This method enhances robustness and generalization by averaging the results from individual trees, which are trained on different subsets of the data.\n"
   ]
  },
  {
   "cell_type": "code",
   "execution_count": 24,
   "metadata": {},
   "outputs": [],
   "source": [
    "rfc = RandomForestClassifier()\n",
    "rfc.fit(X_tr,y_tr)\n",
    "\n",
    "pred_rfc = rfc.predict(X_tst)"
   ]
  },
  {
   "cell_type": "code",
   "execution_count": 25,
   "metadata": {},
   "outputs": [
    {
     "name": "stdout",
     "output_type": "stream",
     "text": [
      "              precision    recall  f1-score   support\n",
      "\n",
      "           0       0.97      0.98      0.97      1351\n",
      "           1       0.99      0.98      0.98      2157\n",
      "\n",
      "    accuracy                           0.98      3508\n",
      "   macro avg       0.98      0.98      0.98      3508\n",
      "weighted avg       0.98      0.98      0.98      3508\n",
      "\n"
     ]
    },
    {
     "data": {
      "image/png": "[encoded data removed]",
      "text/plain": [
       "<Figure size 640x480 with 2 Axes>"
      ]
     },
     "metadata": {},
     "output_type": "display_data"
    }
   ],
   "source": [
    "rfc_accu = accuracy_score(y_tst,pred_rfc)*100\n",
    "rfc_f1 = f1_score(y_tst,pred_rfc)*100\n",
    "\n",
    "\n",
    "print(classification_report(y_tst,pred_rfc))\n",
    "\n",
    "clf_rfc = confusion_matrix(y_tst,pred_rfc)\n",
    "cx_ = ConfusionMatrixDisplay(clf_rfc,display_labels=['phishing_mail','safe_mail']).plot()\n",
    "plt.title(\"confusion matrix\")\n",
    "plt.show()"
   ]
  },
  {
   "cell_type": "code",
   "execution_count": null,
   "metadata": {},
   "outputs": [],
   "source": []
  },
  {
   "cell_type": "markdown",
   "metadata": {},
   "source": [
    "### Support Vector Machine\n",
    "\n",
    "A [**Support Vector Machine (SVM)**](https://scikit-learn.org/stable/modules/svm.html#classification) is a supervised learning algorithm used for classification tasks that finds the optimal hyperplane to separate data points of different classes. By maximizing the margin between the closest points of the classes (support vectors), SVM ensures the best separation. It can handle non-linear classification through the use of kernel functions, which transform the data into higher dimensions where a linear separator can be found."
   ]
  },
  {
   "cell_type": "code",
   "execution_count": 26,
   "metadata": {},
   "outputs": [
    {
     "name": "stderr",
     "output_type": "stream",
     "text": [
      "/opt/miniconda3/envs/ai/lib/python3.10/site-packages/sklearn/svm/_classes.py:31: FutureWarning: The default value of `dual` will change from `True` to `'auto'` in 1.5. Set the value of `dual` explicitly to suppress the warning.\n",
      "  warnings.warn(\n"
     ]
    }
   ],
   "source": [
    "svm = LinearSVC()\n",
    "svm.fit(X_tr,y_tr)\n",
    "\n",
    "pred_svm = svm.predict(X_tst)"
   ]
  },
  {
   "cell_type": "code",
   "execution_count": 27,
   "metadata": {},
   "outputs": [
    {
     "name": "stdout",
     "output_type": "stream",
     "text": [
      "              precision    recall  f1-score   support\n",
      "\n",
      "           0       0.98      0.98      0.98      1351\n",
      "           1       0.99      0.99      0.99      2157\n",
      "\n",
      "    accuracy                           0.98      3508\n",
      "   macro avg       0.98      0.98      0.98      3508\n",
      "weighted avg       0.98      0.98      0.98      3508\n",
      "\n"
     ]
    }
   ],
   "source": [
    "svm_accu = accuracy_score(y_tst,pred_svm)*100\n",
    "svm_f1 = f1_score(y_tst,pred_svm)*100\n",
    "\n",
    "print(classification_report(y_tst,pred_svm))\n"
   ]
  },
  {
   "cell_type": "code",
   "execution_count": 28,
   "metadata": {},
   "outputs": [
    {
     "data": {
      "image/png": "[encoded data removed]",
      "text/plain": [
       "<Figure size 640x480 with 2 Axes>"
      ]
     },
     "metadata": {},
     "output_type": "display_data"
    }
   ],
   "source": [
    "clf_svm = confusion_matrix(y_tst,pred_svm)\n",
    "cx_ = ConfusionMatrixDisplay(clf_svm,display_labels=['phishing_mail','safe_mail']).plot()\n",
    "plt.title(\"confusion matrix\")\n",
    "plt.show()"
   ]
  },
  {
   "cell_type": "markdown",
   "metadata": {},
   "source": [
    "## Multinomial Naive Bayes \n",
    "\n",
    "[**Multinomial Naive Bayes**](https://scikit-learn.org/stable/modules/generated/sklearn.naive_bayes.MultinomialNB.html) is a probabilistic machine learning algorithm used for classification tasks, particularly effective for text classification such as spam detection and document categorization. It assumes that features follow a multinomial distribution and calculates the probability of each class based on the frequency of features (e.g., words) in the training data. Despite its simplicity, it often performs well with large, sparse datasets and is known for its efficiency and scalability."
   ]
  },
  {
   "cell_type": "code",
   "execution_count": 29,
   "metadata": {},
   "outputs": [],
   "source": [
    "nb = MultinomialNB()\n",
    "nb.fit(X_tr,y_tr)\n",
    "\n",
    "pred_nb = nb.predict(X_tst)"
   ]
  },
  {
   "cell_type": "code",
   "execution_count": 30,
   "metadata": {},
   "outputs": [
    {
     "name": "stdout",
     "output_type": "stream",
     "text": [
      "              precision    recall  f1-score   support\n",
      "\n",
      "           0       0.97      0.96      0.97      1351\n",
      "           1       0.98      0.98      0.98      2157\n",
      "\n",
      "    accuracy                           0.98      3508\n",
      "   macro avg       0.97      0.97      0.97      3508\n",
      "weighted avg       0.98      0.98      0.98      3508\n",
      "\n"
     ]
    }
   ],
   "source": [
    "\n",
    "\n",
    "nb_accu = accuracy_score(y_tst,pred_nb)*100\n",
    "nb_f1 = f1_score(y_tst,pred_nb)*100\n",
    "\n",
    "print(classification_report(y_tst,pred_nb))\n",
    "\n"
   ]
  },
  {
   "cell_type": "markdown",
   "metadata": {},
   "source": [
    "Confusion Matrix\n",
    "upper left - number of emails predicted to be phishing and are actually phishing (True Positive)\n",
    "upper right - number of emails predicted as not phishing that are actually phishing (False Positive)\n",
    "lower left - number emails predicted to be phishing that are actually not phishing (False Negative)\n",
    "lower right - number of emails predicted ast not phishing that are actually not phishing (True Negative)"
   ]
  },
  {
   "cell_type": "code",
   "execution_count": 31,
   "metadata": {},
   "outputs": [
    {
     "data": {
      "image/png": "[encoded data removed]",
      "text/plain": [
       "<Figure size 640x480 with 2 Axes>"
      ]
     },
     "metadata": {},
     "output_type": "display_data"
    }
   ],
   "source": [
    "clf_nb = confusion_matrix(y_tst,pred_nb)\n",
    "cx_ = ConfusionMatrixDisplay(clf_nb,display_labels=['phishing_mail','safe_mail']).plot()\n",
    "plt.show()"
   ]
  },
  {
   "cell_type": "markdown",
   "metadata": {},
   "source": [
    "## Gradient Boosting Machine \n",
    "\n",
    "A [**Gradient Boosting Machine (GBM)**](https://scikit-learn.org/stable/modules/generated/sklearn.ensemble.GradientBoostingClassifier.html) is an ensemble learning technique that builds models sequentially, where each new model corrects the errors of the previous ones. It works by combining weak learners, typically decision trees, in a stage-wise fashion to minimize a loss function, enhancing the overall predictive accuracy. GBM is known for its high performance in various machine learning tasks, but it can be computationally intensive and prone to overfitting if not properly tuned."
   ]
  },
  {
   "cell_type": "code",
   "execution_count": 39,
   "metadata": {},
   "outputs": [],
   "source": [
    "gbc = GradientBoostingClassifier()\n",
    "gbc.fit(X_tr,y_tr)\n",
    "\n",
    "pred_gbc = gbc.predict(X_tst)"
   ]
  },
  {
   "cell_type": "code",
   "execution_count": 38,
   "metadata": {},
   "outputs": [
    {
     "name": "stdout",
     "output_type": "stream",
     "text": [
      "              precision    recall  f1-score   support\n",
      "\n",
      "           0       0.97      0.89      0.93      1351\n",
      "           1       0.93      0.98      0.96      2157\n",
      "\n",
      "    accuracy                           0.95      3508\n",
      "   macro avg       0.95      0.94      0.94      3508\n",
      "weighted avg       0.95      0.95      0.95      3508\n",
      "\n"
     ]
    }
   ],
   "source": [
    "gbc_accu = accuracy_score(y_tst,pred_gbc)*100\n",
    "gbc_f1 = f1_score(y_tst,pred_gbc)*100\n",
    "\n",
    "print(classification_report(y_tst,pred_gbc))"
   ]
  },
  {
   "cell_type": "code",
   "execution_count": 34,
   "metadata": {},
   "outputs": [
    {
     "data": {
      "image/png": "[encoded data removed]",
      "text/plain": [
       "<Figure size 640x480 with 2 Axes>"
      ]
     },
     "metadata": {},
     "output_type": "display_data"
    }
   ],
   "source": [
    "clf_gbc = confusion_matrix(y_tst,pred_gbc)\n",
    "cx_ = ConfusionMatrixDisplay(clf_gbc,display_labels=['phishing_mail','safe_mail']).plot()\n",
    "plt.show()"
   ]
  },
  {
   "cell_type": "markdown",
   "metadata": {},
   "source": [
    "# Comparisons\n",
    "\n"
   ]
  },
  {
   "cell_type": "code",
   "execution_count": 35,
   "metadata": {},
   "outputs": [
    {
     "name": "stdout",
     "output_type": "stream",
     "text": [
      "                            accuracy\n",
      "Logistic Regression        97.947548\n",
      "Decision Tree              93.215507\n",
      "Random Forest              97.805017\n",
      "Support Vector Machine     98.460661\n",
      "Naive Bayes                97.519954\n",
      "Gradient Boosting Machine  92.303307\n"
     ]
    }
   ],
   "source": [
    "\n",
    "\n",
    "accu_values = [lr_accu,dt_accu,rfc_accu,svm_accu,nb_accu,gbc_accu]\n",
    "row_labels = [\"Logistic Regression\", \"Decision Tree\", \"Random Forest\",\"Support Vector Machine\",\"Naive Bayes\", \"Gradient Boosting Machine\"]\n",
    "comp_df = pd.DataFrame(accu_values, columns=[\"accuracy\"], index=row_labels)\n",
    "print(comp_df)"
   ]
  },
  {
   "cell_type": "code",
   "execution_count": 36,
   "metadata": {},
   "outputs": [
    {
     "name": "stdout",
     "output_type": "stream",
     "text": [
      "98.46066134549602\n"
     ]
    }
   ],
   "source": [
    "print(svm_accu)"
   ]
  }
 ],
 "metadata": {
  "kernelspec": {
   "display_name": "Python 3 (ipykernel)",
   "language": "python",
   "name": "python3"
  },
  "language_info": {
   "codemirror_mode": {
    "name": "ipython",
    "version": 3
   },
   "file_extension": ".py",
   "mimetype": "text/x-python",
   "name": "python",
   "nbconvert_exporter": "python",
   "pygments_lexer": "ipython3",
   "version": "3.10.13"
  }
 },
 "nbformat": 4,
 "nbformat_minor": 4
}
