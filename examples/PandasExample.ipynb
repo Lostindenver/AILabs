{
 "cells": [
  {
   "cell_type": "markdown",
   "id": "7ee8c86e-3001-4674-a348-246d8b8a1e1a",
   "metadata": {},
   "source": [
    "## Pandas Quick Overview\n",
    "\n",
    "First we import the pandas module into Python as *pd* which is a convention\n",
    "many people use.\n",
    "Then we create a dataframe using the Pandas **read_csv()** method."
   ]
  },
  {
   "cell_type": "code",
   "execution_count": 27,
   "id": "7095220c-bc43-4b60-9115-d3030b94e25c",
   "metadata": {},
   "outputs": [],
   "source": [
    "import pandas as pd\n",
    "\n",
    "data = pd.read_csv('../datasets/Phishing_Email.csv')"
   ]
  },
  {
   "cell_type": "markdown",
   "id": "5b10edff-92f6-4fed-bc01-7d4d79907db6",
   "metadata": {},
   "source": [
    "The **data.shape** attribute shows you the shape of the data frame.  In this case, 18650 rows x 3 columns.\n"
   ]
  },
  {
   "cell_type": "code",
   "execution_count": 39,
   "id": "f5fbf7e0-c911-4548-886a-4cf53e200f88",
   "metadata": {},
   "outputs": [
    {
     "name": "stdout",
     "output_type": "stream",
     "text": [
      "(18650, 3)\n"
     ]
    }
   ],
   "source": [
    "print(data.shape)"
   ]
  },
  {
   "cell_type": "markdown",
   "id": "1df5b909-d2ab-44f8-81b8-d17dbd8a6308",
   "metadata": {},
   "source": [
    "**data.info()** gives you basic information about the data frame.\n"
   ]
  },
  {
   "cell_type": "code",
   "execution_count": 40,
   "id": "5bae6e57-e65b-44f4-8019-fe4a416fd564",
   "metadata": {},
   "outputs": [
    {
     "name": "stdout",
     "output_type": "stream",
     "text": [
      "<class 'pandas.core.frame.DataFrame'>\n",
      "RangeIndex: 18650 entries, 0 to 18649\n",
      "Data columns (total 3 columns):\n",
      " #   Column      Non-Null Count  Dtype \n",
      "---  ------      --------------  ----- \n",
      " 0   Unnamed: 0  18650 non-null  int64 \n",
      " 1   Email Text  18634 non-null  object\n",
      " 2   Email Type  18650 non-null  object\n",
      "dtypes: int64(1), object(2)\n",
      "memory usage: 437.2+ KB\n",
      "None\n"
     ]
    }
   ],
   "source": [
    "print(data.info())"
   ]
  },
  {
   "cell_type": "markdown",
   "id": "9387f79e-ad61-427b-a405-653845f44721",
   "metadata": {},
   "source": [
    "**data.head()** shows you the first 5 rows of data to give you a sense of what it looks like.  In this\n",
    "case we have a labelled phishing email dataset whereby the *Email Type* column shows the values \"Safe Email\" versus \"Phishing Email\".\n"
   ]
  },
  {
   "cell_type": "code",
   "execution_count": 10,
   "id": "db9a4175-019f-4222-bb99-bb1fd3ef04ad",
   "metadata": {},
   "outputs": [
    {
     "name": "stdout",
     "output_type": "stream",
     "text": [
      "   Unnamed: 0                                         Email Text  \\\n",
      "0           0  re : 6 . 1100 , disc : uniformitarianism , re ...   \n",
      "1           1  the other side of * galicismos * * galicismo *...   \n",
      "2           2  re : equistar deal tickets are you still avail...   \n",
      "3           3  \\nHello I am your hot lil horny toy.\\n    I am...   \n",
      "4           4  software at incredibly low prices ( 86 % lower...   \n",
      "\n",
      "       Email Type  \n",
      "0      Safe Email  \n",
      "1      Safe Email  \n",
      "2      Safe Email  \n",
      "3  Phishing Email  \n",
      "4  Phishing Email  \n"
     ]
    }
   ],
   "source": [
    "print(data.head())"
   ]
  },
  {
   "cell_type": "markdown",
   "id": "20017c60-3922-44a7-81d5-a95b6951bd6e",
   "metadata": {},
   "source": [
    "**data.describe()** will perform some basic statistics on the data frame yielding row counts, confidence intervals, max, min, and mean values. It's a good way to get an all around sense of what data we are working with."
   ]
  },
  {
   "cell_type": "code",
   "execution_count": 18,
   "id": "83c5b6b7-eb0d-4daa-ae17-4b1051546c8f",
   "metadata": {},
   "outputs": [
    {
     "name": "stdout",
     "output_type": "stream",
     "text": [
      "         Unnamed: 0\n",
      "count  18650.000000\n",
      "mean    9325.154477\n",
      "std     5384.327293\n",
      "min        0.000000\n",
      "25%     4662.250000\n",
      "50%     9325.500000\n",
      "75%    13987.750000\n",
      "max    18650.000000\n"
     ]
    }
   ],
   "source": [
    "print(data.describe())"
   ]
  },
  {
   "cell_type": "markdown",
   "id": "ff41f9ca-a5e2-4425-b0eb-6876287b2c91",
   "metadata": {},
   "source": [
    "* **data.isnull()** finds any rows in the data frame that have null values.\n",
    "* using **sum()** allows us to see a count of those rows with null values.\n",
    "* **data.dropna()** cleans up the null values by dropping those rows.\n"
   ]
  },
  {
   "cell_type": "code",
   "execution_count": 32,
   "id": "34d33cab-68b3-4883-9221-26111d3c3109",
   "metadata": {},
   "outputs": [
    {
     "name": "stdout",
     "output_type": "stream",
     "text": [
      "Unnamed: 0     0\n",
      "Email Text    16\n",
      "Email Type     0\n",
      "dtype: int64\n",
      ">>>>>>>>>>>>>\n",
      "<class 'pandas.core.frame.DataFrame'>\n",
      "Index: 18634 entries, 0 to 18649\n",
      "Data columns (total 3 columns):\n",
      " #   Column      Non-Null Count  Dtype \n",
      "---  ------      --------------  ----- \n",
      " 0   Unnamed: 0  18634 non-null  int64 \n",
      " 1   Email Text  18634 non-null  object\n",
      " 2   Email Type  18634 non-null  object\n",
      "dtypes: int64(1), object(2)\n",
      "memory usage: 582.3+ KB\n",
      "None\n"
     ]
    }
   ],
   "source": [
    "print(data.isnull().sum())\n",
    "print('>>>>>>>>>>>>>')\n",
    "clean_data = data.dropna()\n",
    "print(clean_data.info())"
   ]
  }
 ],
 "metadata": {
  "kernelspec": {
   "display_name": "Python 3 (ipykernel)",
   "language": "python",
   "name": "python3"
  },
  "language_info": {
   "codemirror_mode": {
    "name": "ipython",
    "version": 3
   },
   "file_extension": ".py",
   "mimetype": "text/x-python",
   "name": "python",
   "nbconvert_exporter": "python",
   "pygments_lexer": "ipython3",
   "version": "3.10.13"
  }
 },
 "nbformat": 4,
 "nbformat_minor": 5
}
