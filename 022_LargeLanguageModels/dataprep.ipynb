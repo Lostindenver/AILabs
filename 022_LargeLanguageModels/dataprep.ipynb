{
 "cells": [
  {
   "cell_type": "markdown",
   "id": "8f9c9c0a-2494-46ae-b605-8a7cd73916ce",
   "metadata": {},
   "source": [
    "<a href=\"https://colab.research.google.com/github/RiverGumSecurity/AILabs/blob/main/022_LargeLanguageModels/SFT_bhisblogs.ipynb\" target=\"_new\"><img src=\"https://colab.research.google.com/assets/colab-badge.svg\" alt=\"Open In Colab\"/></a>"
   ]
  },
  {
   "cell_type": "code",
   "execution_count": 1,
   "id": "d5b118d8-9038-48f0-950a-c3a3f3d38bcb",
   "metadata": {},
   "outputs": [
    {
     "name": "stderr",
     "output_type": "stream",
     "text": [
      "/home/jsthyer/miniconda3/envs/llm/lib/python3.12/site-packages/bitsandbytes/cextension.py:48: SyntaxWarning: invalid escape sequence '\\d'\n",
      "  library_name = re.sub(\"cuda\\d+\", f\"cuda{override_value}\", library_name, count=1)\n"
     ]
    },
    {
     "name": "stdout",
     "output_type": "stream",
     "text": [
      "🦥 Unsloth: Will patch your computer to enable 2x faster free finetuning.\n"
     ]
    },
    {
     "name": "stderr",
     "output_type": "stream",
     "text": [
      "/home/jsthyer/miniconda3/envs/llm/lib/python3.12/site-packages/unsloth/models/_utils.py:529: SyntaxWarning: invalid escape sequence '\\.'\n",
      "  source = re.sub(\"([^\\.])nn\\.\", r\"\\1torch.nn.\", source)\n",
      "/home/jsthyer/miniconda3/envs/llm/lib/python3.12/site-packages/unsloth/models/_utils.py:792: SyntaxWarning: invalid escape sequence '\\)'\n",
      "  \"self.rotary_emb = .+?\\)\", function,\n",
      "/home/jsthyer/miniconda3/envs/llm/lib/python3.12/site-packages/unsloth/models/_utils.py:890: SyntaxWarning: invalid escape sequence '\\)'\n",
      "  \"self.rotary_emb = .+?\\)\", function,\n",
      "/home/jsthyer/miniconda3/envs/llm/lib/python3.12/site-packages/unsloth/models/llama.py:1515: SyntaxWarning: invalid escape sequence '\\ '\n",
      "  f\"   \\\\\\   /|    GPU: {gpu_stats.name}. Max memory: {max_memory} GB. Platform = {platform_system}.\\n\"\\\n",
      "/home/jsthyer/miniconda3/envs/llm/lib/python3.12/site-packages/unsloth/models/llama.py:1516: SyntaxWarning: invalid escape sequence '\\_'\n",
      "  f\"O^O/ \\_/ \\\\    Pytorch: {torch.__version__}. CUDA = {gpu_stats.major}.{gpu_stats.minor}. CUDA Toolkit = {torch.version.cuda}.\\n\"\\\n",
      "/home/jsthyer/miniconda3/envs/llm/lib/python3.12/site-packages/unsloth/models/llama.py:1517: SyntaxWarning: invalid escape sequence '\\ '\n",
      "  f\"\\        /    Bfloat16 = {str(SUPPORTS_BFLOAT16).upper()}. FA [Xformers = {xformers_version}. FA2 = {HAS_FLASH_ATTENTION}]\\n\"\\\n",
      "/home/jsthyer/miniconda3/envs/llm/lib/python3.12/site-packages/unsloth/models/llama.py:1665: SyntaxWarning: invalid escape sequence '\\.'\n",
      "  start = re.search('logger\\.info\\([\\\"\\'].+?Running training', inner_training_loop).span(0)[0]\n",
      "/home/jsthyer/miniconda3/envs/llm/lib/python3.12/site-packages/unsloth/models/llama.py:1668: SyntaxWarning: invalid escape sequence '\\s'\n",
      "  spaces = re.search('\\n([\\s\\t]{1,})', original_debug).group(0)[1:]\n",
      "/home/jsthyer/miniconda3/envs/llm/lib/python3.12/site-packages/unsloth/models/llama.py:1669: SyntaxWarning: invalid escape sequence '\\s'\n",
      "  front_spaces = re.match('([\\s\\t]{1,})', inner_training_loop).group(0)\n",
      "/home/jsthyer/miniconda3/envs/llm/lib/python3.12/site-packages/unsloth/save.py:477: SyntaxWarning: invalid escape sequence '\\s'\n",
      "  gb_found = re.match(\"([0-9]{1,})[\\s]{0,}GB\", max_shard_size, flags = re.IGNORECASE)\n",
      "/home/jsthyer/miniconda3/envs/llm/lib/python3.12/site-packages/unsloth/save.py:478: SyntaxWarning: invalid escape sequence '\\s'\n",
      "  mb_found = re.match(\"([0-9]{1,})[\\s]{0,}MB\", max_shard_size, flags = re.IGNORECASE)\n",
      "/home/jsthyer/miniconda3/envs/llm/lib/python3.12/site-packages/unsloth/save.py:953: SyntaxWarning: invalid escape sequence '\\ '\n",
      "  f\"   \\\\\\   /|    [0] Installing llama.cpp will take 3 minutes.\\n\"\\\n",
      "/home/jsthyer/miniconda3/envs/llm/lib/python3.12/site-packages/unsloth/save.py:954: SyntaxWarning: invalid escape sequence '\\_'\n",
      "  f\"O^O/ \\_/ \\\\    [1] Converting HF to GGUF 16bits will take 3 minutes.\\n\"\\\n",
      "/home/jsthyer/miniconda3/envs/llm/lib/python3.12/site-packages/unsloth/save.py:955: SyntaxWarning: invalid escape sequence '\\ '\n",
      "  f\"\\        /    [2] Converting GGUF 16bits to {quantization_method} will take 10 minutes each.\\n\"\\\n",
      "/home/jsthyer/miniconda3/envs/llm/lib/python3.12/site-packages/unsloth/chat_templates.py:1643: SyntaxWarning: invalid escape sequence '\\{'\n",
      "  try: found = next(re.finditer(\"(\" + try_find + \").+?\\{INPUT\\}\", chat_template, flags = re.DOTALL | re.MULTILINE))\n",
      "/home/jsthyer/miniconda3/envs/llm/lib/python3.12/site-packages/unsloth/chat_templates.py:2084: SyntaxWarning: invalid escape sequence '\\d'\n",
      "  gguf_tokenized = re.findall(\"([\\d]{1,}) \\-\\> \\'([^\\']{1,})\\'\", gguf_tokens, flags = re.MULTILINE)\n"
     ]
    },
    {
     "name": "stdout",
     "output_type": "stream",
     "text": [
      "==((====))==  Unsloth 2024.11.7: Fast Llama patching. Transformers = 4.46.2.\n",
      "   \\\\   /|    GPU: NVIDIA GeForce RTX 4090. Max memory: 23.988 GB. Platform = Linux.\n",
      "O^O/ \\_/ \\    Pytorch: 2.5.1+cu124. CUDA = 8.9. CUDA Toolkit = 12.4.\n",
      "\\        /    Bfloat16 = TRUE. FA [Xformers = 0.0.28.post3. FA2 = False]\n",
      " \"-____-\"     Free Apache license: http://github.com/unslothai/unsloth\n",
      "Unsloth: Fast downloading is enabled - ignore downloading bars which are red colored!\n"
     ]
    }
   ],
   "source": [
    "import torch\n",
    "import warnings\n",
    "import os\n",
    "import sys\n",
    "import pathlib\n",
    "try:\n",
    "    import unsloth\n",
    "except:\n",
    "    if 'google.colab' in sys.modules:\n",
    "        !pip install unsloth\n",
    "\n",
    "# suppresses some noisey warnings which are just annoying\n",
    "warnings.filterwarnings('ignore')\n",
    "max_seq_length = 4096\n",
    "\n",
    "# Setup Hugging Face Credentials.\n",
    "HF_APIKEY = ''\n",
    "if 'google.colab' in sys.modules:\n",
    "    from google.colab import userdata\n",
    "    HF_APIKEY = userdata.get('HF_APIKEY')\n",
    "else:\n",
    "    with open(pathlib.Path.home() / '.hfkey') as hf:\n",
    "        HF_APIKEY = hf.read().strip()\n",
    "if not HF_APIKEY:\n",
    "    print('[-] ERROR: Cannot continue without Hugging Face API Key')\n",
    "    sys.exit(0)\n",
    "os.environ['HF_TOKEN'] = HF_APIKEY\n",
    "\n",
    "model, tokenizer = unsloth.FastLanguageModel.from_pretrained(\n",
    "    model_name = \"unsloth/Meta-Llama-3.1-8B\",\n",
    "    max_seq_length = max_seq_length,\n",
    "    dtype = None, load_in_4bit = True\n",
    ")"
   ]
  },
  {
   "cell_type": "code",
   "execution_count": 3,
   "id": "c83acfa5-9ecf-4368-861b-f39c10e0c883",
   "metadata": {},
   "outputs": [
    {
     "data": {
      "text/plain": [
       "{'input': '',\n",
       " 'instruction': 'You are an information security expert and have deep technical knowledge\\nin the information security domain. You have the extensive knowledge of\\nan experienced senior information security consultant.\\nYou thoroughly understand a diverse amount of information security concepts including encryption, hashing,\\nrisk analysis, penetration testing, red teaming, purple teaming,\\nweb application testing, source code analysis, internal and external network testing.\\n\\nTake a step back and think step-by-step about how to achieve the best possible results.\\nProvide a response to the input provided using one of the options below.\\n\\n\\n<title>A Need For A Change - or - Burning Your Money</title>\\n<taxonomies>InfoSec 201, News, breach, external breach, internal breach, it security, verizon breach report</taxonomies>\\n<creation_date>Thu, 26 Mar 2015 17:43:47 +0000</creation_date>\\n\\n1. Summarize the blog post.\\n2. Answer questions about the blog post.\\n3. Provide detailed technical explanations from the blog post.\\n',\n",
       " 'output': \"Mick Douglas Take look at this chart from last year's Verizon Data Breach Report It shows who notified the breached party when they were attacked This graph is a sad indictment for all of us in the information protection industry This chart means that only about 1 in 8 times there's a breach it's found out by an internal party Of course this means that 7 times of those 8 it's discovered by someone external to your organization That has got to hurt If you doubt me just ask the PR firm or department of any breached organization There's two ways you can look at this chart First you can despair that all the spending on IT security has largely been what Wasted We'll not go that far Misallocated might be a better way of thinking about how your funds were spent Secondly we can't help but see that there's so much room for improvement that virtually anything we change could make a big impact In light of such a lopsided graph it's plain to see our internal detective controls need a quick boost While many are tempted to take the traditional approach to situations such as this namely spending on new tools until the problem appears to go away We at BHIS would suggest a different course of action Start making things harder for the bad guys by taking a more active defensive posture We'll be listing some ways to make your defenses be more resilient durable cost effective and above all active over the next few postings here so stay tuned Before we finish this post one thing to note the internal IT Audit Department lead the pack for finding the breaches That's great Good job auditors Seriously when was the last time you thanked your auditor Let's make this into a friendly competition and have the IT Operations and Security Teams lead the findings next year We're certainly looking forward to the Verizon Data Breach Report for this coming year Who knows what it'll contain Although given how rough The Year of the Breach was the only sure bet is that it will have eye popping charts\"}"
      ]
     },
     "execution_count": 3,
     "metadata": {},
     "output_type": "execute_result"
    }
   ],
   "source": [
    "import re\n",
    "import json\n",
    "import datasets\n",
    "import requests\n",
    "from bs4 import BeautifulSoup\n",
    "\n",
    "# get dataset\n",
    "r = requests.get('https://raw.githubusercontent.com/RiverGumSecurity/Datasets/refs/heads/main/BHIS/bhis-blogs-cleaned.json')\n",
    "data = json.loads(r.text)\n",
    "ds = datasets.Dataset.from_list(data)"
   ]
  },
  {
   "cell_type": "code",
   "execution_count": 11,
   "id": "34e19786-e1e8-480f-9184-d9a4e3ccbdfd",
   "metadata": {},
   "outputs": [
    {
     "name": "stdout",
     "output_type": "stream",
     "text": [
      "<|begin_of_text|>\n",
      "### Instruction:\n",
      "Based on the following extract, generate five instruction-answer pairs. Each instruction\n",
      "must ask to write about a specific topic contained in the context.\n",
      "Each answer must provide a relevant paragraph based on the information found in the\n",
      "context.\n",
      "Only use concepts from the context to generate the instructions.\n",
      "Instructions must never explicitly mention a context, a system, a course, or an extract.\n",
      "Instructions must be self-contained and general.\n",
      "Answers must imitate the writing style of the context.\n",
      "\n",
      "Provide your response in JSON format with the following structure:\n",
      "\n",
      "{\n",
      "\"instruction_answer_pairs\": [\n",
      "        {\"instruction\": \"...\", \"answer\": \"...\"},\n",
      "    ]\n",
      "}\n",
      "\n",
      "### Input:\n",
      "Joff Thyer When performing a penetration of test of organizations with Windows desktops many testers will now resort to using tools like Veil's Powershell Empire in order to inject shellcode directly into memory Without doubt this is a fantastic technique as it avoids writing to disk and running headlong into a direct hit by most endpoint protection solutions xkcd The malware aquarium It is often the the case that we want to perform some more thorough testing by using actual malware executables and perhaps different command and control techniques during our test We want to vary our techniques in order to find out where the clipping threshold of defense technologies is set and be able to comprehensively report back on what techniques were effective on a system versus what techniques were not In most environments the most commonly deployed endpoint protection technology is an Antivirus engine Antivirus has become very effective at detecting off-the-shelf 32-bit malware executables from the Metasploit framework but tends to be lacking in the 64-bit arena Additionally we find that network resident defenses are well-tuned to 32-bit second stage payloads from Metasploit but less capable of seeing a 64-bit second stage payload In my experience the AV engines are not exclusively looking at the shellcode but also matching on the assembly code that constitutes the stub loader for Metasploit executables generated by the msfvenom command When Metasploit payloads are generated they use a standard template executable in both the 32-bit and 64-bit cases The standard templates are in the form of precompiled executables in the framework's data directory In addition to the templates the Metasploit project provides a source code directory in the framework Focusing specifically on Windows we can find both the 32-bit template source in C and the 64-bit template source in assembly both of which are in the usr share metasploit-framework data templates src pe exe directory on a KALI distribution In both the 32 and 64-bit cases the template source has a very similar function It allocates a buffer of 4096 bytes in memory and puts the string PAYLOAD at the beginning of this buffer The string PAYLOAD is placed into the buffer as a constant that indicates a starting place for msfvenom to use when creating a new payload executable That starting place is an address in memory which msfvenom knows can be used to copy shellcode into The size of the available buffer for shellcode is the allocated buffer size in the template EXE minus eight the length of the string PAYLOAD Msfvenom will take the chosen payload encode it with the appropriate encoder if specified and prepend no-operation NOP sled bytes if also chosen The final executable in the 32-bit case has been compiled from C source code In the C source code the shellcode is called by casting the payload buffer to a pointer to a function which has no function parameters The final executable in the 64-bit case has been compiled from assembly code The assembly code function allocates an executable buffer of memory copies the shellcode into that memory and executes it using a CALL instruction This is a very similar technique used by many different tools including the awesome Powershell toys we all use 32-bit source code for EXE template 64-bit assembly source code for EXE template Armed with this knowledge I decided to see how one single AV engine Avast reacted when I simply took the 64-bit executable template and copied it to a Windows system Note that I did not even put any shellcode payload into the EXE but only took the template itself It was not really surprising that Avast immediately triggered an alert Let's face it matching on the assembly opcodes for the template is a pretty easy way of triggering an alert without having to actually examine the shellcode payload Avast tells me this is bad Staying focused on the 64-bit case there is absolutely no reason why I cannot recompile this assembly code and modify it as much or as little as I want to We only need to make sure that at some point it calls the two required bits of code to copy the payload into an executable memory segment we allocated and then executes it Case 1 For my first level of fun I simply recompiled the same source assembly code Not surprisingly Avast flagged this Case 2 I changed the buffer length to 8192 bytes and recompiled Nothing other than the buffer length was changed Avast completely failed this test by not flagging a single alert How do I know Well I compiled it on the system that Avast was also running Note that the instructions for compiling the assembly code are helpfully listed in the commands of the source code Last section of x64 assembly listing Case 3 I modified all of the values in the assembly code to 8192 then took my newly generated executable template and created two different payloads with it One of the payloads used the 64-bit XOR encoding on the shellcode while the other used no encoding at all I then copied the payload files to my Windows 7 machine running Avast I forced Avast to scan them and they passed with flying colors Then I executed them and shell was mine With case 3 I was particularly amused at Avast's DEEP SCAN which seemed to indicate that it was looking really hard at what was going on But then it told me that all was fine and the malware was happily executed New assembly source code listing with 8192 buffer length 64-bit payload using new template and no encoding 64-bit payload using new template and XOR encoding New payloads in a directory on the Windows system Go ahead and scan my directory I am safe what a relief Oh no I might get caught here Phew And now it's shell time Conclusion My theory and practical experience was that AV vendors are looking at the templates rather than the shellcode itself In this specific instance we saw immediate success with only a minor assembly code modification and absolutely no encoding of a 64-bit shellcode payload Why choose Avast No specific reason other than I needed a solution in a hurry to execute my test I will be repeating the experiment with other AV engines to see what my mileage looks like There are many possible variations on this technique but like so much in life it is better to start simple and ramp up as needed Happy hunting\n",
      "\n",
      "### Response:\n",
      "{\n",
      "\"instruction_answer_pairs\": [\n",
      "        {\"instruction\": \"Write about a technique that can be used to avoid writing to disk and running headlong into a direct hit by most endpoint protection solutions\", \"answer\": \"It is often the the case that we want to perform some more thorough testing by using actual malware executables and perhaps different command and control techniques during our test We want to vary our techniques in order to find out where the clipping threshold of defense technologies is set and be able to comprehensively report back on what techniques were effective on a system versus what techniques were not\"},\n",
      "        {\"instruction\": \"Write about a commonly deployed endpoint protection technology\", \"answer\": \"In most environments the most commonly deployed endpoint protection technology is an Antivirus engine\"},\n",
      "        {\"instruction\": \"Write about a network resident defense that is well-tuned to 32-bit second stage payloads from Metasploit\", \"answer\": \"Additionally we find that network resident defenses are well-tuned to 32-bit second stage payloads from Metasploit but less capable of seeing a 64-bit second stage payload\"},\n",
      "        {\"instruction\": \"Write about the standard template executable in both the 32-bit and 64-bit cases\", \"answer\": \"The standard templates are in the form of precompiled executables in the framework's data directory\"},\n",
      "        {\"instruction\": \"Write about the string PAYLOAD\", \"answer\": \"The string PAYLOAD is placed into the buffer as a constant that indicates a starting place for msfvenom to use when creating a new payload executable That starting place is an address in memory which msfvenom knows can be used to copy shellcode into The size of the available buffer for shellcode is the allocated buffer size in the template EXE minus eight the length of the string PAYLOAD\"}\n",
      "    ]\n",
      "}\n",
      "\n",
      "<|end_of_text|>\n"
     ]
    }
   ],
   "source": [
    "from transformers import TextStreamer\n",
    "\n",
    "prompt = \"\"\"\n",
    "### Instruction:\n",
    "Based on the following extract, generate five instruction-answer pairs. Each instruction\n",
    "must ask to write about a specific topic contained in the context.\n",
    "Each answer must provide a relevant paragraph based on the information found in the\n",
    "context.\n",
    "Only use concepts from the context to generate the instructions.\n",
    "Instructions must never explicitly mention a context, a system, a course, or an extract.\n",
    "Instructions must be self-contained and general.\n",
    "Answers must imitate the writing style of the context.\n",
    "\n",
    "Provide your response in JSON format with the following structure:\n",
    "\n",
    "{{\n",
    "\"instruction_answer_pairs\": [\n",
    "        {{\"instruction\": \"...\", \"answer\": \"...\"}},\n",
    "    ]\n",
    "}}\n",
    "\n",
    "### Input:\n",
    "{}\n",
    "\n",
    "### Response:\n",
    "\"\"\"\n",
    "\n",
    "unsloth.FastLanguageModel.for_inference(model)\n",
    "inputs = tokenizer([prompt.format(ds[4]['output'])], return_tensors = \"pt\").to(\"cuda\")\n",
    "\n",
    "text_streamer = TextStreamer(tokenizer)\n",
    "_ = model.generate(**inputs, streamer = text_streamer, max_new_tokens = 4096)"
   ]
  },
  {
   "cell_type": "code",
   "execution_count": null,
   "id": "54dfda24-3b5d-4e73-815b-d503886861ce",
   "metadata": {},
   "outputs": [],
   "source": []
  }
 ],
 "metadata": {
  "kernelspec": {
   "display_name": "Python 3 (ipykernel)",
   "language": "python",
   "name": "python3"
  },
  "language_info": {
   "codemirror_mode": {
    "name": "ipython",
    "version": 3
   },
   "file_extension": ".py",
   "mimetype": "text/x-python",
   "name": "python",
   "nbconvert_exporter": "python",
   "pygments_lexer": "ipython3",
   "version": "3.12.7"
  }
 },
 "nbformat": 4,
 "nbformat_minor": 5
}
