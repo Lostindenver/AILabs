{
 "cells": [
  {
   "cell_type": "markdown",
   "id": "146278fd-b8b9-4e5a-942d-dffa4e4f81ff",
   "metadata": {},
   "source": [
    "<a href=\"https://colab.research.google.com/github/RiverGumSecurity/AILabs/blob/main/020_SupervisedLearning/Linear_Regression.ipynb\" target=\"_new\"><img src=\"https://colab.research.google.com/assets/colab-badge.svg\" alt=\"Open In Colab\"/></a>"
   ]
  },
  {
   "cell_type": "markdown",
   "id": "f594a5f1-da3c-4acc-88da-81e55131f1ee",
   "metadata": {},
   "source": [
    "# Linear Regression\n",
    "\n",
    "Learning objectives:\n",
    "* Selecting a suitable data source\n",
    "* Defining linear regression.\n",
    "* Mean squared error as a central concept.\n",
    "* Outlining why we use linear regression.\n",
    "* Demonstration and observing machine learning with linear regression.\n",
    "* Q/A?   Do we have MetaCTF questions we could pose?  "
   ]
  },
  {
   "cell_type": "code",
   "execution_count": null,
   "id": "833dec18-8426-4af6-a8e5-605e9cbf78b6",
   "metadata": {},
   "outputs": [],
   "source": [
    "import numpy as np\n",
    "import pandas as pd\n",
    "import matplotlib.pyplot as plt\n",
    "from sklearn.datasets import fetch_california_housing\n",
    "from sklearn.model_selection import train_test_split\n",
    "from sklearn.linear_model import LinearRegression\n",
    "from sklearn.metrics import mean_squared_error, r2_score\n"
   ]
  },
  {
   "cell_type": "code",
   "execution_count": null,
   "id": "bfb2a9aa-0b1c-42bb-bcc6-98770265f922",
   "metadata": {},
   "outputs": [],
   "source": [
    "## Load the California housing dataset\n",
    "housing = fetch_california_housing()\n",
    "df = pd.DataFrame(housing.data, columns=housing.feature_names)\n",
    "df['MedHouseVal'] = housing.target"
   ]
  },
  {
   "cell_type": "code",
   "execution_count": null,
   "id": "fddc3c71-0700-4b07-804d-1d4a901351f4",
   "metadata": {},
   "outputs": [],
   "source": [
    "## Display the first few rows of the dataset\n",
    "df.head()"
   ]
  },
  {
   "cell_type": "code",
   "execution_count": null,
   "id": "b7c64f86-7b68-4f70-ad9b-e6e3f440a470",
   "metadata": {},
   "outputs": [],
   "source": [
    "## Split the data into training and testing sets\n",
    "X = df.drop('MedHouseVal', axis=1)\n",
    "y = df['MedHouseVal']\n",
    "X_train, X_test, y_train, y_test = train_test_split(X, y, test_size=0.2, random_state=42)"
   ]
  },
  {
   "cell_type": "code",
   "execution_count": null,
   "id": "6e2f47e2-cb22-447d-a883-750754b70383",
   "metadata": {},
   "outputs": [],
   "source": [
    "## Create and train the linear regression model\n",
    "model = LinearRegression()\n",
    "model.fit(X_train, y_train)"
   ]
  },
  {
   "cell_type": "code",
   "execution_count": null,
   "id": "5546c6ab-892c-4dc9-8794-b326ad957c96",
   "metadata": {},
   "outputs": [],
   "source": [
    "## Make predictions on the testing set\n",
    "y_pred = model.predict(X_test)\n"
   ]
  },
  {
   "cell_type": "code",
   "execution_count": null,
   "id": "94004406-944a-4065-841d-14e26429c9ae",
   "metadata": {},
   "outputs": [],
   "source": [
    "## Evaluate the model\n",
    "mse = mean_squared_error(y_test, y_pred)\n",
    "r2 = r2_score(y_test, y_pred)"
   ]
  },
  {
   "cell_type": "code",
   "execution_count": null,
   "id": "444579f0-d073-44c2-bb5a-e4aa5a2250ab",
   "metadata": {},
   "outputs": [],
   "source": [
    "print(f'Mean Squared Error: {mse}')\n",
    "print(f'R-squared: {r2}')"
   ]
  },
  {
   "cell_type": "code",
   "execution_count": null,
   "id": "f8bf787b-51a5-4f89-8649-f63b64e2a45d",
   "metadata": {},
   "outputs": [],
   "source": [
    "## Plot the results\n",
    "plt.figure(figsize=(10, 6))\n",
    "plt.scatter(y_test, y_pred, edgecolors=(0, 0, 0))\n",
    "plt.plot([y_test.min(), y_test.max()], [y_test.min(), y_test.max()], 'k--', lw=4)\n",
    "plt.xlabel('Measured')\n",
    "plt.ylabel('Predicted')\n",
    "plt.title('Measured vs Predicted')\n",
    "plt.show()"
   ]
  }
 ],
 "metadata": {
  "kernelspec": {
   "display_name": "Python 3 (ipykernel)",
   "language": "python",
   "name": "python3"
  },
  "language_info": {
   "codemirror_mode": {
    "name": "ipython",
    "version": 3
   },
   "file_extension": ".py",
   "mimetype": "text/x-python",
   "name": "python",
   "nbconvert_exporter": "python",
   "pygments_lexer": "ipython3",
   "version": "3.12.7"
  }
 },
 "nbformat": 4,
 "nbformat_minor": 5
}
