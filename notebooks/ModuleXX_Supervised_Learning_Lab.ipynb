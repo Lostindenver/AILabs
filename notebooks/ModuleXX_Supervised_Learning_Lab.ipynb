{
 "cells": [
  {
   "cell_type": "markdown",
   "id": "54d44257-d1b4-43ef-9734-853912be0749",
   "metadata": {},
   "source": [
    "# Supervised Learning Lab\n",
    "\n",
    "In this lab you will train and test a binary classification maching learning model using the Scikit-Learn modules.\n"
   ]
  },
  {
   "cell_type": "code",
   "execution_count": null,
   "id": "ca4f497a-8aac-4c42-9e9c-1d116bbd7913",
   "metadata": {},
   "outputs": [],
   "source": [
    "# import libraries\n",
    "import numpy as np\n",
    "import pandas as pd\n",
    "import nltk\n",
    "import seaborn as sns\n",
    "import plotly.express as px\n",
    "import matplotlib.pyplot as plt\n",
    "import datetime\n",
    "import os \n",
    "import re\n",
    "from sklearn.preprocessing import LabelEncoder\n",
    "from sklearn.metrics import accuracy_score,f1_score,classification_report,ConfusionMatrixDisplay,confusion_matrix\n",
    "from sklearn.feature_extraction.text import TfidfVectorizer,CountVectorizer\n",
    "from sklearn.svm import LinearSVC\n",
    "from sklearn.tree import DecisionTreeClassifier\n",
    "from sklearn.ensemble import RandomForestClassifier\n",
    "from sklearn.linear_model import LogisticRegression\n",
    "from sklearn.naive_bayes import MultinomialNB\n",
    "from sklearn.tree import DecisionTreeClassifier\n",
    "from sklearn.ensemble import RandomForestClassifier\n",
    "from sklearn.ensemble import GradientBoostingClassifier\n",
    "from sklearn.model_selection import train_test_split\n",
    "from sklearn.metrics import roc_curve, auc, roc_auc_score\n",
    "import warnings"
   ]
  },
  {
   "cell_type": "code",
   "execution_count": null,
   "id": "f2246605-8c97-417e-a291-519504337f36",
   "metadata": {},
   "outputs": [],
   "source": [
    "# Set numpy random seed for reproducible numbers\n",
    "np.random.seed(42)"
   ]
  },
  {
   "cell_type": "markdown",
   "id": "08fce2a6-555d-42d0-b6b1-a008c9b430f4",
   "metadata": {},
   "source": [
    "# Dataset"
   ]
  },
  {
   "cell_type": "code",
   "execution_count": null,
   "id": "8cd68c98-1599-444d-9b5b-9eed0b077b6f",
   "metadata": {},
   "outputs": [],
   "source": [
    "# note that this data was obtained from https://zenodo.org/records/8339691\n",
    "# required citation at the end of the notebook\n",
    "\n",
    "# Read in dataset \n",
    "df = pd.read_csv(\"https://raw.githubusercontent.com/RiverGumSecurity/Datasets/refs/heads/main/Zenodo/CEAS_08.csv.gz\")\n",
    "df"
   ]
  },
  {
   "cell_type": "code",
   "execution_count": null,
   "id": "6372d090-3b1c-4df5-91f6-8c2c3a73fcf6",
   "metadata": {},
   "outputs": [],
   "source": [
    "df['combined'] = df['subject'] + \" \" + df['body']"
   ]
  },
  {
   "cell_type": "code",
   "execution_count": null,
   "id": "77c7e20c-beec-4420-90ec-d6d4a3609ba9",
   "metadata": {},
   "outputs": [],
   "source": [
    "new_df = df.iloc[:, [7,5]]\n",
    "new_df = new_df.rename(columns={'combined':'Email Text', 'label':'Email Type'})\n",
    "new_df.dropna(inplace=True,axis=0)\n",
    "new_df.drop_duplicates(inplace=True)\n",
    "new_df"
   ]
  },
  {
   "cell_type": "code",
   "execution_count": null,
   "id": "17105977-fe8e-48b9-b70a-c835addddcb1",
   "metadata": {},
   "outputs": [],
   "source": [
    "# Label Email Type\n",
    "lbl = LabelEncoder()\n",
    "new_df['Email Type'] = lbl.fit_transform(new_df['Email Type'])"
   ]
  },
  {
   "cell_type": "code",
   "execution_count": null,
   "id": "53ce3135-2d0b-4453-b940-eba989abc42c",
   "metadata": {},
   "outputs": [],
   "source": [
    "# Function to preprocess text.\n",
    "def preprocess_text(text):\n",
    "    text = re.sub(r'http\\S+', '', text)\n",
    "    text = re.sub(r'[^\\w\\s]', '', text)\n",
    "    text = text.lower()\n",
    "    text = re.sub(r'\\s+', ' ', text).strip()\n",
    "    return text\n",
    "new_df['Email Text']=new_df['Email Text'].apply(preprocess_text)"
   ]
  },
  {
   "cell_type": "code",
   "execution_count": null,
   "id": "aa42cba6-e52b-4aea-8c86-f9fc80439875",
   "metadata": {},
   "outputs": [],
   "source": [
    "new_df"
   ]
  },
  {
   "cell_type": "code",
   "execution_count": null,
   "id": "19b22a97-f217-4808-b908-65ad8b72c8b8",
   "metadata": {},
   "outputs": [],
   "source": [
    "\n",
    "# Convert email text to an array of vectors, removing stop words\n",
    "tf = TfidfVectorizer(stop_words='english',max_features=10000) #dimension reduction\n",
    "feature_x = tf.fit_transform(new_df['Email Text']).toarray()\n",
    "\n",
    "# convert the label into numpy array\n",
    "y_tf = np.array(new_df['Email Type']) "
   ]
  },
  {
   "cell_type": "code",
   "execution_count": null,
   "id": "f8e1a112-b882-4475-b10c-800fc6b1144d",
   "metadata": {},
   "outputs": [],
   "source": [
    "#split dataset into training and testing data groups, 80 percent training, 20 percent testing\n",
    "X_tr,X_tst,y_tr,y_tst = train_test_split(feature_x,y_tf,test_size=0.2,random_state=0)"
   ]
  },
  {
   "cell_type": "code",
   "execution_count": null,
   "id": "da73fd15-a3f5-46ac-bdc4-c0c673ca33b9",
   "metadata": {},
   "outputs": [],
   "source": [
    "svm = LinearSVC()\n",
    "svm.fit(X_tr,y_tr)\n",
    "\n",
    "pred_svm = svm.predict(X_tst)"
   ]
  },
  {
   "cell_type": "code",
   "execution_count": null,
   "id": "b8cb0b4c-1dab-4494-afad-0b72d34519c1",
   "metadata": {},
   "outputs": [],
   "source": [
    "svm_accu = accuracy_score(y_tst,pred_svm)*100\n",
    "svm_f1 = f1_score(y_tst,pred_svm)*100\n",
    "\n",
    "print(classification_report(y_tst,pred_svm))"
   ]
  },
  {
   "cell_type": "code",
   "execution_count": null,
   "id": "e3aee7d5-8c78-48c4-9a2b-74ffd9aab02e",
   "metadata": {},
   "outputs": [],
   "source": [
    "print(svm_accu)"
   ]
  }
 ],
 "metadata": {
  "kernelspec": {
   "display_name": "Python 3 (ipykernel)",
   "language": "python",
   "name": "python3"
  },
  "language_info": {
   "codemirror_mode": {
    "name": "ipython",
    "version": 3
   },
   "file_extension": ".py",
   "mimetype": "text/x-python",
   "name": "python",
   "nbconvert_exporter": "python",
   "pygments_lexer": "ipython3",
   "version": "3.12.7"
  }
 },
 "nbformat": 4,
 "nbformat_minor": 5
}
