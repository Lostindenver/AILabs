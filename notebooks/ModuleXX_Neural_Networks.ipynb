{
 "cells": [
  {
   "cell_type": "markdown",
   "id": "9b028a26-f0e1-4c50-bad5-0544adf04233",
   "metadata": {},
   "source": [
    "<a href=\"https://colab.research.google.com/github/RiverGumSecurity/AILabs/blob/main/notebooks/ModuleXX_Neural_Networks.ipynb\" target=\"_parent\"><img src=\"https://colab.research.google.com/assets/colab-badge.svg\" alt=\"Open In Colab\"/></a>"
   ]
  },
  {
   "attachments": {},
   "cell_type": "markdown",
   "id": "a7318404-f202-4515-bc11-86022e59e744",
   "metadata": {},
   "source": [
    "# Supervised Learning and Neural Networks with Phishing Email Data\n",
    "\n",
    "Neural networks are a subset of machine learning algorithms inspired by the human brain's structure and function. They consist of layers of interconnected \"neurons\" that transform the input data through weighted connections to produce an output. Neural networks are particularly powerful for complex tasks like image recognition and natural language processing.\n",
    "\n",
    "Neural networks consist of an input layer, one or more hidden layers, and an output layer. These layers consist of \"neurons\" where each neuron processes input data by applying a weight and an activation function (like sigmoid or ReLU) to produce an output. The training (or learning) process adjusts the weights of the connections between neurons using algorithms like backpropagation and optimization techniques like gradient descent. Neural networks, particularly deep neural networks (deep learning), can model highly complex relationships between inputs and outputs by learning hierarchical feature representations in the hidden layers. Deep learning neural networks typically contain three or more hidden layers.\n",
    "\n",
    "<center><img src=\"https://images.edrawsoft.com/articles/neural-network-diagram/example1.png\" width=\"800\" height=\"600\"></center>\n",
    "\n",
    "\n"
   ]
  },
  {
   "cell_type": "code",
   "execution_count": 1,
   "id": "f037f4ce-8b9a-444b-bdaa-0f36208eacec",
   "metadata": {},
   "outputs": [
    {
     "name": "stderr",
     "output_type": "stream",
     "text": [
      "2024-11-14 08:18:58.442908: I tensorflow/core/util/port.cc:153] oneDNN custom operations are on. You may see slightly different numerical results due to floating-point round-off errors from different computation orders. To turn them off, set the environment variable `TF_ENABLE_ONEDNN_OPTS=0`.\n",
      "2024-11-14 08:18:58.450595: E external/local_xla/xla/stream_executor/cuda/cuda_fft.cc:485] Unable to register cuFFT factory: Attempting to register factory for plugin cuFFT when one has already been registered\n",
      "2024-11-14 08:18:58.458379: E external/local_xla/xla/stream_executor/cuda/cuda_dnn.cc:8454] Unable to register cuDNN factory: Attempting to register factory for plugin cuDNN when one has already been registered\n",
      "2024-11-14 08:18:58.460587: E external/local_xla/xla/stream_executor/cuda/cuda_blas.cc:1452] Unable to register cuBLAS factory: Attempting to register factory for plugin cuBLAS when one has already been registered\n",
      "2024-11-14 08:18:58.466895: I tensorflow/core/platform/cpu_feature_guard.cc:210] This TensorFlow binary is optimized to use available CPU instructions in performance-critical operations.\n",
      "To enable the following instructions: AVX2 AVX_VNNI FMA, in other operations, rebuild TensorFlow with the appropriate compiler flags.\n",
      "2024-11-14 08:18:59.058211: W tensorflow/compiler/tf2tensorrt/utils/py_utils.cc:38] TF-TRT Warning: Could not find TensorRT\n"
     ]
    }
   ],
   "source": [
    "# import libraries\n",
    "import numpy as np\n",
    "import pandas as pd\n",
    "import nltk\n",
    "import seaborn as sns\n",
    "import plotly.express as px\n",
    "import datetime\n",
    "import os \n",
    "import re\n",
    "from sklearn.preprocessing import LabelEncoder\n",
    "from sklearn.metrics import accuracy_score,f1_score,classification_report,ConfusionMatrixDisplay,confusion_matrix\n",
    "from sklearn.feature_extraction.text import TfidfVectorizer,CountVectorizer\n",
    "from sklearn.model_selection import train_test_split\n",
    "import tensorflow as tf\n",
    "from tensorflow.keras.preprocessing.text import Tokenizer\n",
    "from tensorflow.keras.layers import Embedding,GRU,LSTM,Bidirectional,SimpleRNN\n",
    "from tensorflow.keras.utils import pad_sequences\n",
    "from keras.models import Sequential\n",
    "from keras.layers import Dense,Dropout\n",
    "import matplotlib.pyplot as plt\n",
    "import warnings\n",
    "warnings.filterwarnings('ignore')"
   ]
  },
  {
   "cell_type": "code",
   "execution_count": 2,
   "id": "e8d6e503-b7a9-472a-b6f1-e00cd2284f8b",
   "metadata": {},
   "outputs": [],
   "source": [
    "#Supress debug warnings in training output\n",
    "os.environ['TF_CPP_MIN_LOG_LEVEL'] = '2'  # Suppresses INFO and WARNING messages\n",
    "tf.get_logger().setLevel('ERROR')"
   ]
  },
  {
   "cell_type": "code",
   "execution_count": 3,
   "id": "9982cbe9-eb9a-4f86-ae8b-ceccd31fedd8",
   "metadata": {},
   "outputs": [],
   "source": [
    "# Set random seed static value for consistent results\n",
    "seed = 42"
   ]
  },
  {
   "cell_type": "code",
   "execution_count": 4,
   "id": "6f3e37ef-b7d4-42df-958a-440d1640f2c0",
   "metadata": {},
   "outputs": [
    {
     "name": "stdout",
     "output_type": "stream",
     "text": [
      "[name: \"/device:CPU:0\"\n",
      "device_type: \"CPU\"\n",
      "memory_limit: 268435456\n",
      "locality {\n",
      "}\n",
      "incarnation: 16462515486705765152\n",
      "xla_global_id: -1\n",
      ", name: \"/device:GPU:0\"\n",
      "device_type: \"GPU\"\n",
      "memory_limit: 9963569152\n",
      "locality {\n",
      "  bus_id: 1\n",
      "  links {\n",
      "  }\n",
      "}\n",
      "incarnation: 144251559013970187\n",
      "physical_device_desc: \"device: 0, name: NVIDIA GeForce RTX 4070 Ti, pci bus id: 0000:01:00.0, compute capability: 8.9\"\n",
      "xla_global_id: 416903419\n",
      "]\n"
     ]
    },
    {
     "name": "stderr",
     "output_type": "stream",
     "text": [
      "WARNING: All log messages before absl::InitializeLog() is called are written to STDERR\n",
      "I0000 00:00:1731590339.729242   30045 cuda_executor.cc:1001] could not open file to read NUMA node: /sys/bus/pci/devices/0000:01:00.0/numa_node\n",
      "Your kernel may have been built without NUMA support.\n",
      "I0000 00:00:1731590339.755310   30045 cuda_executor.cc:1001] could not open file to read NUMA node: /sys/bus/pci/devices/0000:01:00.0/numa_node\n",
      "Your kernel may have been built without NUMA support.\n",
      "I0000 00:00:1731590339.755364   30045 cuda_executor.cc:1001] could not open file to read NUMA node: /sys/bus/pci/devices/0000:01:00.0/numa_node\n",
      "Your kernel may have been built without NUMA support.\n",
      "I0000 00:00:1731590339.871714   30045 cuda_executor.cc:1001] could not open file to read NUMA node: /sys/bus/pci/devices/0000:01:00.0/numa_node\n",
      "Your kernel may have been built without NUMA support.\n",
      "I0000 00:00:1731590339.871795   30045 cuda_executor.cc:1001] could not open file to read NUMA node: /sys/bus/pci/devices/0000:01:00.0/numa_node\n",
      "Your kernel may have been built without NUMA support.\n",
      "2024-11-14 08:18:59.871804: I tensorflow/core/common_runtime/gpu/gpu_device.cc:2112] Could not identify NUMA node of platform GPU id 0, defaulting to 0.  Your kernel may not have been built with NUMA support.\n",
      "I0000 00:00:1731590339.871831   30045 cuda_executor.cc:1001] could not open file to read NUMA node: /sys/bus/pci/devices/0000:01:00.0/numa_node\n",
      "Your kernel may have been built without NUMA support.\n",
      "2024-11-14 08:18:59.871847: I tensorflow/core/common_runtime/gpu/gpu_device.cc:2021] Created device /device:GPU:0 with 9502 MB memory:  -> device: 0, name: NVIDIA GeForce RTX 4070 Ti, pci bus id: 0000:01:00.0, compute capability: 8.9\n"
     ]
    }
   ],
   "source": [
    "# Detect GPU device\n",
    "from tensorflow.python.client import device_lib\n",
    "print(device_lib.list_local_devices())"
   ]
  },
  {
   "cell_type": "code",
   "execution_count": 5,
   "id": "211e67c6-f1e1-4071-90fd-1bc66c425787",
   "metadata": {},
   "outputs": [],
   "source": [
    "os.environ['TF_CPP_MIN_LOG_LEVEL'] = '2'  # Suppresses INFO and WARNING messages"
   ]
  },
  {
   "cell_type": "markdown",
   "id": "1e2d6a82-d65f-4413-bff4-3f53aa366eba",
   "metadata": {},
   "source": [
    "## Data Acquisition and Preparation\n",
    "\n",
    "The dataset that will be used to train and test the different models is from https://www.kaggle.com/datasets/subhajournal/phishingemails.  It is pre-labeled as \"Safe Email\" or \"Phishing Email\".  The data will be cleaned and prepared for training machine learning models with Pandas."
   ]
  },
  {
   "cell_type": "code",
   "execution_count": 6,
   "id": "3cc29abc-c9e0-4cbf-9c36-5d8e5506a397",
   "metadata": {},
   "outputs": [
    {
     "data": {
      "text/html": [
       "<div>\n",
       "<style scoped>\n",
       "    .dataframe tbody tr th:only-of-type {\n",
       "        vertical-align: middle;\n",
       "    }\n",
       "\n",
       "    .dataframe tbody tr th {\n",
       "        vertical-align: top;\n",
       "    }\n",
       "\n",
       "    .dataframe thead th {\n",
       "        text-align: right;\n",
       "    }\n",
       "</style>\n",
       "<table border=\"1\" class=\"dataframe\">\n",
       "  <thead>\n",
       "    <tr style=\"text-align: right;\">\n",
       "      <th></th>\n",
       "      <th>Unnamed: 0</th>\n",
       "      <th>Email Text</th>\n",
       "      <th>Email Type</th>\n",
       "    </tr>\n",
       "  </thead>\n",
       "  <tbody>\n",
       "    <tr>\n",
       "      <th>0</th>\n",
       "      <td>0</td>\n",
       "      <td>re : 6 . 1100 , disc : uniformitarianism , re ...</td>\n",
       "      <td>Safe Email</td>\n",
       "    </tr>\n",
       "    <tr>\n",
       "      <th>1</th>\n",
       "      <td>1</td>\n",
       "      <td>the other side of * galicismos * * galicismo *...</td>\n",
       "      <td>Safe Email</td>\n",
       "    </tr>\n",
       "    <tr>\n",
       "      <th>2</th>\n",
       "      <td>2</td>\n",
       "      <td>re : equistar deal tickets are you still avail...</td>\n",
       "      <td>Safe Email</td>\n",
       "    </tr>\n",
       "    <tr>\n",
       "      <th>3</th>\n",
       "      <td>3</td>\n",
       "      <td>\\nHello I am your hot lil horny toy.\\n    I am...</td>\n",
       "      <td>Phishing Email</td>\n",
       "    </tr>\n",
       "    <tr>\n",
       "      <th>4</th>\n",
       "      <td>4</td>\n",
       "      <td>software at incredibly low prices ( 86 % lower...</td>\n",
       "      <td>Phishing Email</td>\n",
       "    </tr>\n",
       "    <tr>\n",
       "      <th>5</th>\n",
       "      <td>5</td>\n",
       "      <td>global risk management operations sally congra...</td>\n",
       "      <td>Safe Email</td>\n",
       "    </tr>\n",
       "    <tr>\n",
       "      <th>6</th>\n",
       "      <td>6</td>\n",
       "      <td>On Sun, Aug 11, 2002 at 11:17:47AM +0100, wint...</td>\n",
       "      <td>Safe Email</td>\n",
       "    </tr>\n",
       "    <tr>\n",
       "      <th>7</th>\n",
       "      <td>7</td>\n",
       "      <td>entourage , stockmogul newsletter ralph velez ...</td>\n",
       "      <td>Phishing Email</td>\n",
       "    </tr>\n",
       "    <tr>\n",
       "      <th>8</th>\n",
       "      <td>8</td>\n",
       "      <td>we owe you lots of money dear applicant , afte...</td>\n",
       "      <td>Phishing Email</td>\n",
       "    </tr>\n",
       "    <tr>\n",
       "      <th>9</th>\n",
       "      <td>9</td>\n",
       "      <td>re : coastal deal - with exxon participation u...</td>\n",
       "      <td>Safe Email</td>\n",
       "    </tr>\n",
       "  </tbody>\n",
       "</table>\n",
       "</div>"
      ],
      "text/plain": [
       "   Unnamed: 0                                         Email Text  \\\n",
       "0           0  re : 6 . 1100 , disc : uniformitarianism , re ...   \n",
       "1           1  the other side of * galicismos * * galicismo *...   \n",
       "2           2  re : equistar deal tickets are you still avail...   \n",
       "3           3  \\nHello I am your hot lil horny toy.\\n    I am...   \n",
       "4           4  software at incredibly low prices ( 86 % lower...   \n",
       "5           5  global risk management operations sally congra...   \n",
       "6           6  On Sun, Aug 11, 2002 at 11:17:47AM +0100, wint...   \n",
       "7           7  entourage , stockmogul newsletter ralph velez ...   \n",
       "8           8  we owe you lots of money dear applicant , afte...   \n",
       "9           9  re : coastal deal - with exxon participation u...   \n",
       "\n",
       "       Email Type  \n",
       "0      Safe Email  \n",
       "1      Safe Email  \n",
       "2      Safe Email  \n",
       "3  Phishing Email  \n",
       "4  Phishing Email  \n",
       "5      Safe Email  \n",
       "6      Safe Email  \n",
       "7  Phishing Email  \n",
       "8  Phishing Email  \n",
       "9      Safe Email  "
      ]
     },
     "execution_count": 6,
     "metadata": {},
     "output_type": "execute_result"
    }
   ],
   "source": [
    "# Read in the data into a Pandas dataframe\n",
    "df = pd.read_csv('https://raw.githubusercontent.com/RiverGumSecurity/Datasets/refs/heads/main/Kaggle/Phishing_Email.csv.gz')\n",
    "df.head(10)"
   ]
  },
  {
   "cell_type": "code",
   "execution_count": 7,
   "id": "fe46408f-7be9-4b0e-9074-dc05def90709",
   "metadata": {},
   "outputs": [
    {
     "name": "stdout",
     "output_type": "stream",
     "text": [
      "<class 'pandas.core.frame.DataFrame'>\n",
      "RangeIndex: 18650 entries, 0 to 18649\n",
      "Data columns (total 3 columns):\n",
      " #   Column      Non-Null Count  Dtype \n",
      "---  ------      --------------  ----- \n",
      " 0   Unnamed: 0  18650 non-null  int64 \n",
      " 1   Email Text  18634 non-null  object\n",
      " 2   Email Type  18650 non-null  object\n",
      "dtypes: int64(1), object(2)\n",
      "memory usage: 437.2+ KB\n"
     ]
    }
   ],
   "source": [
    "# Print information on the dataframe\n",
    "df.info()"
   ]
  },
  {
   "cell_type": "code",
   "execution_count": 8,
   "id": "dd9cd602-2141-4cac-8de7-0ed41cde6364",
   "metadata": {},
   "outputs": [],
   "source": [
    "# Drop null values in place, drop Unamed:0 column, drop duplicates\n",
    "df.drop(['Unnamed: 0'],axis=1,inplace=True)\n",
    "df.dropna(inplace=True,axis=0)\n",
    "df.drop_duplicates(inplace=True)"
   ]
  },
  {
   "cell_type": "code",
   "execution_count": 9,
   "id": "b8a0e2d2-738b-4471-9514-f226de5d3381",
   "metadata": {},
   "outputs": [
    {
     "data": {
      "text/plain": [
       "(17538, 2)"
      ]
     },
     "execution_count": 9,
     "metadata": {},
     "output_type": "execute_result"
    }
   ],
   "source": [
    "# Show the shape of the data\n",
    "df.shape"
   ]
  },
  {
   "cell_type": "code",
   "execution_count": 10,
   "id": "4d9c8644-ab23-4e99-a6f6-17df7ddd2580",
   "metadata": {},
   "outputs": [
    {
     "data": {
      "text/html": [
       "<div>\n",
       "<style scoped>\n",
       "    .dataframe tbody tr th:only-of-type {\n",
       "        vertical-align: middle;\n",
       "    }\n",
       "\n",
       "    .dataframe tbody tr th {\n",
       "        vertical-align: top;\n",
       "    }\n",
       "\n",
       "    .dataframe thead th {\n",
       "        text-align: right;\n",
       "    }\n",
       "</style>\n",
       "<table border=\"1\" class=\"dataframe\">\n",
       "  <thead>\n",
       "    <tr style=\"text-align: right;\">\n",
       "      <th></th>\n",
       "      <th>Email Text</th>\n",
       "      <th>Email Type</th>\n",
       "    </tr>\n",
       "  </thead>\n",
       "  <tbody>\n",
       "    <tr>\n",
       "      <th>0</th>\n",
       "      <td>re : 6 . 1100 , disc : uniformitarianism , re ...</td>\n",
       "      <td>Safe Email</td>\n",
       "    </tr>\n",
       "    <tr>\n",
       "      <th>1</th>\n",
       "      <td>the other side of * galicismos * * galicismo *...</td>\n",
       "      <td>Safe Email</td>\n",
       "    </tr>\n",
       "    <tr>\n",
       "      <th>2</th>\n",
       "      <td>re : equistar deal tickets are you still avail...</td>\n",
       "      <td>Safe Email</td>\n",
       "    </tr>\n",
       "    <tr>\n",
       "      <th>3</th>\n",
       "      <td>\\nHello I am your hot lil horny toy.\\n    I am...</td>\n",
       "      <td>Phishing Email</td>\n",
       "    </tr>\n",
       "    <tr>\n",
       "      <th>4</th>\n",
       "      <td>software at incredibly low prices ( 86 % lower...</td>\n",
       "      <td>Phishing Email</td>\n",
       "    </tr>\n",
       "    <tr>\n",
       "      <th>5</th>\n",
       "      <td>global risk management operations sally congra...</td>\n",
       "      <td>Safe Email</td>\n",
       "    </tr>\n",
       "    <tr>\n",
       "      <th>6</th>\n",
       "      <td>On Sun, Aug 11, 2002 at 11:17:47AM +0100, wint...</td>\n",
       "      <td>Safe Email</td>\n",
       "    </tr>\n",
       "    <tr>\n",
       "      <th>7</th>\n",
       "      <td>entourage , stockmogul newsletter ralph velez ...</td>\n",
       "      <td>Phishing Email</td>\n",
       "    </tr>\n",
       "    <tr>\n",
       "      <th>8</th>\n",
       "      <td>we owe you lots of money dear applicant , afte...</td>\n",
       "      <td>Phishing Email</td>\n",
       "    </tr>\n",
       "    <tr>\n",
       "      <th>9</th>\n",
       "      <td>re : coastal deal - with exxon participation u...</td>\n",
       "      <td>Safe Email</td>\n",
       "    </tr>\n",
       "  </tbody>\n",
       "</table>\n",
       "</div>"
      ],
      "text/plain": [
       "                                          Email Text      Email Type\n",
       "0  re : 6 . 1100 , disc : uniformitarianism , re ...      Safe Email\n",
       "1  the other side of * galicismos * * galicismo *...      Safe Email\n",
       "2  re : equistar deal tickets are you still avail...      Safe Email\n",
       "3  \\nHello I am your hot lil horny toy.\\n    I am...  Phishing Email\n",
       "4  software at incredibly low prices ( 86 % lower...  Phishing Email\n",
       "5  global risk management operations sally congra...      Safe Email\n",
       "6  On Sun, Aug 11, 2002 at 11:17:47AM +0100, wint...      Safe Email\n",
       "7  entourage , stockmogul newsletter ralph velez ...  Phishing Email\n",
       "8  we owe you lots of money dear applicant , afte...  Phishing Email\n",
       "9  re : coastal deal - with exxon participation u...      Safe Email"
      ]
     },
     "execution_count": 10,
     "metadata": {},
     "output_type": "execute_result"
    }
   ],
   "source": [
    "# Display cleaned dataframe\n",
    "df.head(10)"
   ]
  },
  {
   "cell_type": "code",
   "execution_count": 11,
   "id": "2b1b5b12-ab7a-4a85-ad4b-07b4b68af6cb",
   "metadata": {},
   "outputs": [
    {
     "data": {
      "text/plain": [
       "Email Type\n",
       "Safe Email        10980\n",
       "Phishing Email     6558\n",
       "Name: count, dtype: int64"
      ]
     },
     "execution_count": 11,
     "metadata": {},
     "output_type": "execute_result"
    }
   ],
   "source": [
    "# Display the count of Email types, a Safe Email or a Phishing Email\n",
    "df['Email Type'].value_counts()"
   ]
  },
  {
   "cell_type": "code",
   "execution_count": 12,
   "id": "a93bda6a-4af6-492a-93b8-aff225609d1a",
   "metadata": {},
   "outputs": [
    {
     "data": {
      "text/plain": [
       "<Axes: xlabel='Email Type'>"
      ]
     },
     "execution_count": 12,
     "metadata": {},
     "output_type": "execute_result"
    },
    {
     "data": {
      "image/png": "[encoded data removed]",
      "text/plain": [
       "<Figure size 640x480 with 1 Axes>"
      ]
     },
     "metadata": {},
     "output_type": "display_data"
    }
   ],
   "source": [
    "# Plot counts of Safe Email vs Phishing Email\n",
    "df['Email Type'].value_counts().plot(kind='bar')"
   ]
  },
  {
   "cell_type": "markdown",
   "id": "e28d52a3-db0e-4649-8700-e04fe6971217",
   "metadata": {},
   "source": [
    "Now we need to further process and clean the data. This is a binary classification problem, and we need to assign a label (a 1 or a 0) to the email categories. Then we will remove URLS and non word characters from the emails - we are interested in the similarities of the text itself.  Then we lowercase all of the characters, convert all multiple whitespace characters to single whitespace, and remove any trailing whitespaces."
   ]
  },
  {
   "cell_type": "code",
   "execution_count": 13,
   "id": "c1e191c8-4f2a-4878-a652-a0f0a82472d7",
   "metadata": {},
   "outputs": [],
   "source": [
    "# Label Email Type\n",
    "lbl = LabelEncoder()\n",
    "df['Email Type'] = lbl.fit_transform(df['Email Type'])"
   ]
  },
  {
   "cell_type": "code",
   "execution_count": 14,
   "id": "948e153e-a279-4ee5-8e66-1153784a78a8",
   "metadata": {},
   "outputs": [],
   "source": [
    "# Function to preprocess text.\n",
    "def preprocess_text(text):\n",
    "    text = re.sub(r'http\\S+', '', text)\n",
    "    text = re.sub(r'[^\\w\\s]', '', text)\n",
    "    text = text.lower()\n",
    "    text = re.sub(r'\\s+', ' ', text).strip()\n",
    "    return text\n",
    "df['Email Text']=df['Email Text'].apply(preprocess_text)"
   ]
  },
  {
   "cell_type": "code",
   "execution_count": 15,
   "id": "9ab5fb38-80a5-456b-8f4e-068e10c0bd0a",
   "metadata": {},
   "outputs": [
    {
     "data": {
      "text/html": [
       "<div>\n",
       "<style scoped>\n",
       "    .dataframe tbody tr th:only-of-type {\n",
       "        vertical-align: middle;\n",
       "    }\n",
       "\n",
       "    .dataframe tbody tr th {\n",
       "        vertical-align: top;\n",
       "    }\n",
       "\n",
       "    .dataframe thead th {\n",
       "        text-align: right;\n",
       "    }\n",
       "</style>\n",
       "<table border=\"1\" class=\"dataframe\">\n",
       "  <thead>\n",
       "    <tr style=\"text-align: right;\">\n",
       "      <th></th>\n",
       "      <th>Email Text</th>\n",
       "      <th>Email Type</th>\n",
       "    </tr>\n",
       "  </thead>\n",
       "  <tbody>\n",
       "    <tr>\n",
       "      <th>0</th>\n",
       "      <td>re 6 1100 disc uniformitarianism re 1086 sex l...</td>\n",
       "      <td>1</td>\n",
       "    </tr>\n",
       "    <tr>\n",
       "      <th>1</th>\n",
       "      <td>the other side of galicismos galicismo is a sp...</td>\n",
       "      <td>1</td>\n",
       "    </tr>\n",
       "    <tr>\n",
       "      <th>2</th>\n",
       "      <td>re equistar deal tickets are you still availab...</td>\n",
       "      <td>1</td>\n",
       "    </tr>\n",
       "    <tr>\n",
       "      <th>3</th>\n",
       "      <td>hello i am your hot lil horny toy i am the one...</td>\n",
       "      <td>0</td>\n",
       "    </tr>\n",
       "    <tr>\n",
       "      <th>4</th>\n",
       "      <td>software at incredibly low prices 86 lower dra...</td>\n",
       "      <td>0</td>\n",
       "    </tr>\n",
       "    <tr>\n",
       "      <th>5</th>\n",
       "      <td>global risk management operations sally congra...</td>\n",
       "      <td>1</td>\n",
       "    </tr>\n",
       "    <tr>\n",
       "      <th>6</th>\n",
       "      <td>on sun aug 11 2002 at 111747am 0100 wintermute...</td>\n",
       "      <td>1</td>\n",
       "    </tr>\n",
       "    <tr>\n",
       "      <th>7</th>\n",
       "      <td>entourage stockmogul newsletter ralph velez ge...</td>\n",
       "      <td>0</td>\n",
       "    </tr>\n",
       "    <tr>\n",
       "      <th>8</th>\n",
       "      <td>we owe you lots of money dear applicant after ...</td>\n",
       "      <td>0</td>\n",
       "    </tr>\n",
       "    <tr>\n",
       "      <th>9</th>\n",
       "      <td>re coastal deal with exxon participation under...</td>\n",
       "      <td>1</td>\n",
       "    </tr>\n",
       "  </tbody>\n",
       "</table>\n",
       "</div>"
      ],
      "text/plain": [
       "                                          Email Text  Email Type\n",
       "0  re 6 1100 disc uniformitarianism re 1086 sex l...           1\n",
       "1  the other side of galicismos galicismo is a sp...           1\n",
       "2  re equistar deal tickets are you still availab...           1\n",
       "3  hello i am your hot lil horny toy i am the one...           0\n",
       "4  software at incredibly low prices 86 lower dra...           0\n",
       "5  global risk management operations sally congra...           1\n",
       "6  on sun aug 11 2002 at 111747am 0100 wintermute...           1\n",
       "7  entourage stockmogul newsletter ralph velez ge...           0\n",
       "8  we owe you lots of money dear applicant after ...           0\n",
       "9  re coastal deal with exxon participation under...           1"
      ]
     },
     "execution_count": 15,
     "metadata": {},
     "output_type": "execute_result"
    }
   ],
   "source": [
    "df.head(10)"
   ]
  },
  {
   "cell_type": "markdown",
   "id": "15cc76d3-7e26-40ba-aa9a-715af4bf2788",
   "metadata": {},
   "source": [
    "\n",
    "Because our email messages are variable length, we need to fix the length of each vector we create. In deep learning, it’s often beneficial to have inputs of consistent shapes. Setting max_len ensures that all sequences are padded or truncated to a specific length, allowing you to batch-process sequences more efficiently. \n",
    "\n",
    "Next we define a simple neural network model using TensorFlow’s Keras Sequential API which is specifically designed for text data and allows you to stack layers in a linear sequence. Each added layer will be executed in the order it’s added, from the first layer to the last. \n"
   ]
  },
  {
   "cell_type": "code",
   "execution_count": 16,
   "id": "4f4a669b-db0d-427a-aafb-782ee1a4e296",
   "metadata": {},
   "outputs": [],
   "source": [
    "#Set max_len\n",
    "max_len = 256"
   ]
  },
  {
   "cell_type": "markdown",
   "id": "79e5beb8-cd63-446a-8ca1-ed2802361dae",
   "metadata": {},
   "source": [
    "We initalize a new [Tokenizer](https://www.tensorflow.org/api_docs/python/tf/keras/preprocessing/text/Tokenizer) class which is used for preprocessing text data by converting words or characters into numerical representations that a machine learning model can understand. In general, a token is a word or a character.  In our case, a token is a word."
   ]
  },
  {
   "cell_type": "code",
   "execution_count": 17,
   "id": "049d6831-73dc-4062-a912-2d9d7a3878a1",
   "metadata": {},
   "outputs": [],
   "source": [
    "#Initialize new instance of Tokenizer class.\n",
    "tk = Tokenizer()"
   ]
  },
  {
   "cell_type": "markdown",
   "id": "35190462-b1e6-4d0f-b5a2-2ce9c22d6133",
   "metadata": {},
   "source": [
    "The next step is to use `fit_on_texts` method in the 'Tokenizer' class to  processes each text entry in the `Email Text` column of the Pandas data frame to build a vocabulary, where each unique word (or token) is assigned a unique integer index based on its frequency across the entire dataset. It then creates a word index mapping each word (token) to a unique integer in each email. \n",
    "\n",
    "Then we use the `texts_to_sequences` method to create a list of integer sequence for each email from our word index mappings.  These sequence of integers are then converted to vectors of fixed length (256 from our max_len variable) and padded or truncated as necessary and stored in a numpy array.\n"
   ]
  },
  {
   "cell_type": "code",
   "execution_count": 18,
   "id": "ea34b585-b929-4e2b-8b58-637d0f30dd7c",
   "metadata": {},
   "outputs": [],
   "source": [
    "# Process the text\n",
    "tk.fit_on_texts(df['Email Text'])\n",
    "sequences = tk.texts_to_sequences(df['Email Text'])\n",
    "vector = pad_sequences(sequences,padding='post', maxlen=max_len)"
   ]
  },
  {
   "cell_type": "code",
   "execution_count": 19,
   "id": "6c9e493b-0519-4a42-abff-f91f30093e83",
   "metadata": {},
   "outputs": [
    {
     "data": {
      "text/plain": [
       "17538"
      ]
     },
     "execution_count": 19,
     "metadata": {},
     "output_type": "execute_result"
    }
   ],
   "source": [
    "#Number of rows in the vector numpy array, matches the number of emails in our dataset.\n",
    "vector.shape[0]"
   ]
  },
  {
   "cell_type": "code",
   "execution_count": 20,
   "id": "dfa2b0cd-64ca-457d-a108-d039a3c5176b",
   "metadata": {},
   "outputs": [
    {
     "data": {
      "text/plain": [
       "182317"
      ]
     },
     "execution_count": 20,
     "metadata": {},
     "output_type": "execute_result"
    }
   ],
   "source": [
    "#Length of our word index\n",
    "len(tk.word_index) + 1"
   ]
  },
  {
   "cell_type": "markdown",
   "id": "95781310-2989-452f-9f9f-62cab6f11ac4",
   "metadata": {},
   "source": [
    "Now we set the `max_features` parameter to limit our overall vocabulary size to the most frequent words. There are two main reasons for this:\n",
    "\n",
    "- Reduces Memory Usage: In many NLP tasks, datasets contain thousands or millions of unique words. Limiting the vocabulary size to the most frequent words helps reduce memory and computational requirements, which is especially helpful when working with limited resources or large datasets.\n",
    "- Improves Model Generalization: High vocabulary sizes can lead to overfitting, as the model might memorize rare words that do not generalize well to new data. Setting max_features forces the model to focus on the most important and commonly occurring words, which generally improves performance on unseen data"
   ]
  },
  {
   "cell_type": "code",
   "execution_count": 21,
   "id": "47b74f65-b35c-4ca9-90ef-5a3fdd801193",
   "metadata": {},
   "outputs": [],
   "source": [
    "max_features=10000"
   ]
  },
  {
   "cell_type": "markdown",
   "id": "906c5a6e-3f69-4236-9e93-2516832b1fc0",
   "metadata": {},
   "source": [
    "Now we split our dataset into training and testing sets using the `train_test_split function` from scikit-learn.  We will train our neural network on 80 percent of the data, then evaluate the accuracy on the remaining 20 percent. "
   ]
  },
  {
   "cell_type": "code",
   "execution_count": 22,
   "id": "86b2ee7a-bdfa-4a93-b6d3-98821a2f4353",
   "metadata": {},
   "outputs": [],
   "source": [
    "x_train, x_test, y_train, y_test = train_test_split(vector,df['Email Type'], test_size=0.2, random_state =0)"
   ]
  },
  {
   "cell_type": "markdown",
   "id": "5f624a6e-3341-4385-94af-a1935de22eca",
   "metadata": {},
   "source": [
    "## Training a Simple Recurrent Neural Network \n",
    "\n",
    "The [`SimpleRNN`](https://www.tensorflow.org/api_docs/python/tf/keras/layers/SimpleRNN) layer in TensorFlow is a [recurrent neural network (RNN)]9https://en.wikipedia.org/wiki/Recurrent_neural_network) layer that processes sequential data, making it suitable for tasks like time series prediction or text generation. Each unit in SimpleRNN maintains a hidden state across time steps, allowing the model to \"remember\" previous inputs in the sequence. It supports configurations for returning only the final output or the entire sequence, and can also be stacked with other layers for deeper architectures. This layer is simpler and faster than more complex RNN types, like LSTM or GRU, but may struggle with longer sequences.\n",
    "\n",
    "The first line of code in the next block defines the Sequential model then we add the Embedding layer as the first layer of the model. The third layer is the RNN structure layer, then we add a dropout layer for regularization, and the last layer is a \"dense\" unit - this is where our binary classifcation probabilities will be output to.\n",
    "\n",
    "**Embedding Layer**\n",
    "\n",
    "The Embedding layer is used to convert input words (represented as integer indices) into dense vectors of fixed size. T\n",
    "\n",
    "`len(tk.word_index)+1` is the size of the vocabulary, where tk.word_index is the dictionary of words created by the Tokenizer. Adding 1 ensures that there’s an index for each word plus one additional index, often reserved for unknown or padding tokens.\n",
    "\n",
    "50 is the dimensionality of the word embeddings, meaning each word in the vocabulary will be represented by a 50-dimensional vector. This vector captures semantic relationships between words. The `units=100` parameter specifies the number of hidden units in the RNN, meaning the RNN will have 100 output features for each input sequence. Higher units can allow the RNN to capture more complex relationships in the data but can also increase computational requirements.\n",
    "\n",
    "**Simple RNN Layer**\n",
    "\n",
    "The Simple RNN layer to the modelprocesses the sequence of embeddings, maintaining a hidden state that captures dependencies between steps (words) in the sequence. \n",
    "\n",
    "**Dropout Layer** \n",
    "\n",
    "Dropout is a regularization technique that randomly sets 50% of the neurons in the layer to zero during each training step. This helps prevent overfitting by ensuring that the network doesn’t become too reliant on specific neurons and instead learns more generalized patterns.\n",
    "\n",
    "**Dense Layer**\n",
    "\n",
    "The final layer is a dense (fully connected) layer with a single unit.\n",
    "`1` specifies a single neuron because this model is for a binary classification task. The `activation='sigmoid'` seeting means the output will be a value between 0 and 1, representing a probability. In binary classification, this allows the network to output the probability of a sample belonging to a specific class (e.g., class 1).\n"
   ]
  },
  {
   "cell_type": "code",
   "execution_count": 23,
   "id": "8ca54a4d-2349-4ce0-ba6d-04c87231a9ff",
   "metadata": {},
   "outputs": [
    {
     "name": "stderr",
     "output_type": "stream",
     "text": [
      "I0000 00:00:1731590345.392183   30045 cuda_executor.cc:1001] could not open file to read NUMA node: /sys/bus/pci/devices/0000:01:00.0/numa_node\n",
      "Your kernel may have been built without NUMA support.\n",
      "I0000 00:00:1731590345.392282   30045 cuda_executor.cc:1001] could not open file to read NUMA node: /sys/bus/pci/devices/0000:01:00.0/numa_node\n",
      "Your kernel may have been built without NUMA support.\n",
      "I0000 00:00:1731590345.392299   30045 cuda_executor.cc:1001] could not open file to read NUMA node: /sys/bus/pci/devices/0000:01:00.0/numa_node\n",
      "Your kernel may have been built without NUMA support.\n",
      "I0000 00:00:1731590345.392413   30045 cuda_executor.cc:1001] could not open file to read NUMA node: /sys/bus/pci/devices/0000:01:00.0/numa_node\n",
      "Your kernel may have been built without NUMA support.\n",
      "I0000 00:00:1731590345.392428   30045 cuda_executor.cc:1001] could not open file to read NUMA node: /sys/bus/pci/devices/0000:01:00.0/numa_node\n",
      "Your kernel may have been built without NUMA support.\n",
      "I0000 00:00:1731590345.392439   30045 cuda_executor.cc:1001] could not open file to read NUMA node: /sys/bus/pci/devices/0000:01:00.0/numa_node\n",
      "Your kernel may have been built without NUMA support.\n",
      "I0000 00:00:1731590345.392605   30045 cuda_executor.cc:1001] could not open file to read NUMA node: /sys/bus/pci/devices/0000:01:00.0/numa_node\n",
      "Your kernel may have been built without NUMA support.\n",
      "2024-11-14 08:19:05.392622: I tensorflow/core/common_runtime/gpu/gpu_device.cc:2112] Could not identify NUMA node of platform GPU id 0, defaulting to 0.  Your kernel may not have been built with NUMA support.\n",
      "I0000 00:00:1731590345.392658   30045 cuda_executor.cc:1001] could not open file to read NUMA node: /sys/bus/pci/devices/0000:01:00.0/numa_node\n",
      "Your kernel may have been built without NUMA support.\n",
      "2024-11-14 08:19:05.392676: I tensorflow/core/common_runtime/gpu/gpu_device.cc:2021] Created device /job:localhost/replica:0/task:0/device:GPU:0 with 9502 MB memory:  -> device: 0, name: NVIDIA GeForce RTX 4070 Ti, pci bus id: 0000:01:00.0, compute capability: 8.9\n"
     ]
    }
   ],
   "source": [
    "model_srnn = Sequential() # Sequential() API\n",
    "model_srnn.add(Embedding(len(tk.word_index)+1,50))\n",
    "model_srnn.add(SimpleRNN(units=100))\n",
    "model_srnn.add(Dropout(0.5))\n",
    "model_srnn .add(Dense(1, activation='sigmoid'))"
   ]
  },
  {
   "cell_type": "markdown",
   "id": "6ab4acbf-3da3-44a9-9705-030f3b35d9de",
   "metadata": {},
   "source": [
    "Now we \"compile\" neural network model for training by specifying the loss function, optimizer, and evaluation metrics.\n",
    "\n",
    "The `binary crossentropy' loss function measures the difference between the predicted probability and the actual label (0 or 1). It is effective for binary classification tasks because it penalizes predictions that deviate from the true class probability, thus helping the model learn to distinguish between the two classes accurately.\n",
    "\n",
    "The `adam` (Adaptive Moment Estimation) optimizer is a widely used optimization algorithm that adjusts learning rates during training based on estimates of first and second moments of gradients. It combines the advantages of two other optimizers (AdaGrad and RMSProp).\n",
    "\n",
    "The `accuracy` metric provides an intuitive measure of model performance, especially in binary classification tasks, by indicating the percentage of correct predictions. This metric is tracked and displayed during training, helping to monitor the model’s performance over epochs.\n"
   ]
  },
  {
   "cell_type": "code",
   "execution_count": 24,
   "id": "be21b47b-3223-43e4-bac2-0550a10d8b90",
   "metadata": {},
   "outputs": [],
   "source": [
    "model_srnn.compile(loss='binary_crossentropy' , optimizer='adam', metrics=['accuracy'])"
   ]
  },
  {
   "cell_type": "markdown",
   "id": "4de46388-5693-4f5d-ba35-21fd15cbcadd",
   "metadata": {},
   "source": [
    "Next we train, or fit, the model to the data (x_train and y_train) for 20 epochs, with a batch size of 16 and evaluate the model on the validation set (x_test and y_test) after each epoch to monitor performance on unseen data.  \n",
    "\n",
    "Note that and epoch is one complete pass through the data set. The batch size is the number of samples processed before the model’s weights are updated.\n",
    "\n"
   ]
  },
  {
   "cell_type": "code",
   "execution_count": null,
   "id": "ad91d768-8d25-43d1-bd7a-1aad1fcdf5b6",
   "metadata": {},
   "outputs": [
    {
     "name": "stdout",
     "output_type": "stream",
     "text": [
      "Epoch 1/20\n"
     ]
    },
    {
     "name": "stderr",
     "output_type": "stream",
     "text": [
      "WARNING: All log messages before absl::InitializeLog() is called are written to STDERR\n",
      "I0000 00:00:1731590346.385308   30136 service.cc:146] XLA service 0x7fdf38160c80 initialized for platform CUDA (this does not guarantee that XLA will be used). Devices:\n",
      "I0000 00:00:1731590346.385345   30136 service.cc:154]   StreamExecutor device (0): NVIDIA GeForce RTX 4070 Ti, Compute Capability 8.9\n",
      "2024-11-14 08:19:06.404790: I tensorflow/compiler/mlir/tensorflow/utils/dump_mlir_util.cc:268] disabling MLIR crash reproducer, set env var `MLIR_CRASH_REPRODUCER_DIRECTORY` to enable.\n",
      "2024-11-14 08:19:06.490886: I external/local_xla/xla/stream_executor/cuda/cuda_dnn.cc:531] Loaded cuDNN version 8907\n"
     ]
    },
    {
     "name": "stdout",
     "output_type": "stream",
     "text": [
      "\u001b[1m  5/877\u001b[0m \u001b[37m━━━━━━━━━━━━━━━━━━━━\u001b[0m \u001b[1m28s\u001b[0m 33ms/step - accuracy: 0.5763 - loss: 0.6969"
     ]
    },
    {
     "name": "stderr",
     "output_type": "stream",
     "text": [
      "I0000 00:00:1731590346.993677   30136 device_compiler.h:188] Compiled cluster using XLA!  This line is logged at most once for the lifetime of the process.\n"
     ]
    },
    {
     "name": "stdout",
     "output_type": "stream",
     "text": [
      "\u001b[1m877/877\u001b[0m \u001b[32m━━━━━━━━━━━━━━━━━━━━\u001b[0m\u001b[37m\u001b[0m \u001b[1m34s\u001b[0m 38ms/step - accuracy: 0.5340 - loss: 0.7459 - val_accuracy: 0.6149 - val_loss: 0.6667\n",
      "Epoch 2/20\n",
      "\u001b[1m877/877\u001b[0m \u001b[32m━━━━━━━━━━━━━━━━━━━━\u001b[0m\u001b[37m\u001b[0m \u001b[1m32s\u001b[0m 36ms/step - accuracy: 0.5933 - loss: 0.6801 - val_accuracy: 0.6160 - val_loss: 0.6597\n",
      "Epoch 3/20\n",
      "\u001b[1m877/877\u001b[0m \u001b[32m━━━━━━━━━━━━━━━━━━━━\u001b[0m\u001b[37m\u001b[0m \u001b[1m34s\u001b[0m 39ms/step - accuracy: 0.6396 - loss: 0.6439 - val_accuracy: 0.6434 - val_loss: 0.6270\n",
      "Epoch 4/20\n",
      "\u001b[1m877/877\u001b[0m \u001b[32m━━━━━━━━━━━━━━━━━━━━\u001b[0m\u001b[37m\u001b[0m \u001b[1m33s\u001b[0m 37ms/step - accuracy: 0.6688 - loss: 0.5913 - val_accuracy: 0.6536 - val_loss: 0.6108\n",
      "Epoch 5/20\n",
      "\u001b[1m877/877\u001b[0m \u001b[32m━━━━━━━━━━━━━━━━━━━━\u001b[0m\u001b[37m\u001b[0m \u001b[1m32s\u001b[0m 36ms/step - accuracy: 0.6797 - loss: 0.5549 - val_accuracy: 0.5906 - val_loss: 0.6221\n",
      "Epoch 6/20\n",
      "\u001b[1m877/877\u001b[0m \u001b[32m━━━━━━━━━━━━━━━━━━━━\u001b[0m\u001b[37m\u001b[0m \u001b[1m31s\u001b[0m 36ms/step - accuracy: 0.6904 - loss: 0.5378 - val_accuracy: 0.6542 - val_loss: 0.6084\n",
      "Epoch 7/20\n",
      "\u001b[1m877/877\u001b[0m \u001b[32m━━━━━━━━━━━━━━━━━━━━\u001b[0m\u001b[37m\u001b[0m \u001b[1m31s\u001b[0m 35ms/step - accuracy: 0.6933 - loss: 0.5199 - val_accuracy: 0.6422 - val_loss: 0.6274\n",
      "Epoch 8/20\n",
      "\u001b[1m877/877\u001b[0m \u001b[32m━━━━━━━━━━━━━━━━━━━━\u001b[0m\u001b[37m\u001b[0m \u001b[1m31s\u001b[0m 36ms/step - accuracy: 0.6596 - loss: 0.5888 - val_accuracy: 0.6206 - val_loss: 0.6599\n",
      "Epoch 9/20\n",
      "\u001b[1m877/877\u001b[0m \u001b[32m━━━━━━━━━━━━━━━━━━━━\u001b[0m\u001b[37m\u001b[0m \u001b[1m33s\u001b[0m 37ms/step - accuracy: 0.6959 - loss: 0.5376 - val_accuracy: 0.6286 - val_loss: 0.6149\n",
      "Epoch 10/20\n",
      "\u001b[1m877/877\u001b[0m \u001b[32m━━━━━━━━━━━━━━━━━━━━\u001b[0m\u001b[37m\u001b[0m \u001b[1m32s\u001b[0m 37ms/step - accuracy: 0.6970 - loss: 0.5228 - val_accuracy: 0.6317 - val_loss: 0.6286\n",
      "Epoch 11/20\n",
      "\u001b[1m877/877\u001b[0m \u001b[32m━━━━━━━━━━━━━━━━━━━━\u001b[0m\u001b[37m\u001b[0m \u001b[1m34s\u001b[0m 38ms/step - accuracy: 0.6864 - loss: 0.5324 - val_accuracy: 0.6551 - val_loss: 0.6079\n",
      "Epoch 12/20\n",
      "\u001b[1m877/877\u001b[0m \u001b[32m━━━━━━━━━━━━━━━━━━━━\u001b[0m\u001b[37m\u001b[0m \u001b[1m32s\u001b[0m 37ms/step - accuracy: 0.6861 - loss: 0.5334 - val_accuracy: 0.6688 - val_loss: 0.5866\n",
      "Epoch 13/20\n",
      "\u001b[1m877/877\u001b[0m \u001b[32m━━━━━━━━━━━━━━━━━━━━\u001b[0m\u001b[37m\u001b[0m \u001b[1m32s\u001b[0m 36ms/step - accuracy: 0.6916 - loss: 0.5226 - val_accuracy: 0.6474 - val_loss: 0.6087\n",
      "Epoch 14/20\n",
      "\u001b[1m343/877\u001b[0m \u001b[32m━━━━━━━\u001b[0m\u001b[37m━━━━━━━━━━━━━\u001b[0m \u001b[1m18s\u001b[0m 35ms/step - accuracy: 0.6713 - loss: 0.5492"
     ]
    }
   ],
   "source": [
    "historical_srnn  = model_srnn.fit(x_train,y_train, epochs=20, batch_size=16, validation_data=(x_test,y_test))"
   ]
  },
  {
   "cell_type": "markdown",
   "id": "c22e0c65-187b-424a-9067-72b1a64f6414",
   "metadata": {},
   "source": [
    "Now we plot the accuracy during training and the loss on the validation set of data. Essentially, we are visualizing how well a model is learning over time. so that we can gauge model performance and identify potential issues.\n",
    "\n",
    "<u>Training Loss Curve</u>\n",
    "\n",
    "**Expected Pattern:** The training loss should decrease over time, indicating that the model is improving its predictions on the training data.\n",
    "\n",
    "**Asymptotic Behavior:** As training progresses, the training loss typically decreases at a slower rate and eventually flattens out as the model approaches its best performance.\n",
    "\n",
    "**Signs of Overfitting:** If training loss continues to decrease while validation loss starts to increase or levels off, this suggests that the model is beginning to overfit to the training data.\n",
    "\n",
    "**Irregular Loss Patterns:** Sudden spikes or sharp oscillations might indicate issues like a high learning rate or instability, especially in models with non-convex loss landscapes like neural networks.\n",
    "\n",
    "<u>Validation Loss Curve</u>\n",
    "\n",
    "**Expected Pattern:**  Initially, validation loss should decrease along with training loss, showing that the model generalizes well to new data. After some point, however, it may begin to plateau or even increase, which is often a sign of overfitting.\n",
    "\n",
    "**Ideal Outcome:** A minimal gap between training and validation loss, with both curves reaching a plateau, generally indicates a well-fitting model.\n",
    "\n",
    "**Increasing Validation Loss:** If validation loss rises while training loss decreases, this suggests overfitting. Early stopping might be needed to halt training at the optimal point before overfitting worsens.\n",
    "\n",
    "<u>Training Accuracy Curve</u>\n",
    "\n",
    "**Expected Pattern:** Training accuracy should steadily increase as the model learns patterns in the training data. The curve typically starts lower and climbs until it approaches a high level, ideally plateauing near maximum accuracy for the dataset.\n",
    "\n",
    "**Unexpected Behavior:** If accuracy is not increasing, the model may be too simple (underfitting) or the learning rate may be set too low. On the other hand, if accuracy increases too quickly without validation accuracy following, it may indicate overfitting.\n",
    "\n",
    "<u>Validation Accuracy Curve</u>\n",
    "\n",
    "**Expected Pattern:** Like validation loss, validation accuracy should improve initially along with training accuracy. It should ideally track training accuracy closely, especially as training loss decreases.\n",
    "\n",
    "**Gap Between Training and Validation Accuracy:** A large gap where training accuracy is high but validation accuracy is low indicates overfitting. Efforts like regularization, data augmentation, or a more complex model might help in closing this gap.\n",
    "\n",
    "<u>Crossing or Diverging Curves</u>\n",
    "\n",
    "**Crossing Curves:** If validation loss and accuracy cross significantly (e.g., validation accuracy temporarily surpasses training accuracy), it may indicate randomness in validation performance due to small dataset size or other inconsistencies.\n",
    "\n",
    "**Diverging Curves:** If validation accuracy remains much lower than training accuracy, even as loss decreases, this often signals that the model is failing to generalize. Adding more data or using a simpler model might help.\n",
    "\n",
    "<u>Convergence Time</u>\n",
    "\n",
    "**Slow Convergence:** If the training loss and accuracy improve very slowly, consider adjusting hyperparameters like the learning rate or batch size.\n",
    "\n",
    "**Rapid Convergence:** If training loss decreases quickly but then stagnates, the model may have a high learning rate or too few epochs to fully learn the data patterns.\n",
    "\n",
    "<u>Regularization Effects</u>\n",
    "\n",
    "With Regularization (e.g., Dropout, L2): Training loss may show more fluctuation or be consistently higher compared to models without regularization. This is normal, as regularization prevents the model from memorizing training data too closely, helping validation loss stay low."
   ]
  },
  {
   "cell_type": "code",
   "execution_count": null,
   "id": "ce0debcd-5aae-4804-a8f5-44ccbeb0e720",
   "metadata": {},
   "outputs": [],
   "source": [
    "\n",
    "pd.DataFrame(historical_srnn.history)\n",
    "\n",
    "pd.DataFrame(historical_srnn.history)[['accuracy', 'val_accuracy']].plot()\n",
    "plt.title('Training Accuracy')\n",
    "plt.xlabel('Epochs')\n",
    "plt.ylabel('accuracy')\n",
    "\n",
    "pd.DataFrame(historical_srnn.history)[['loss', 'val_loss']].plot()\n",
    "plt.title('Model Loss')\n",
    "plt.xlabel('Epochs')\n",
    "plt.ylabel('Loss')"
   ]
  },
  {
   "cell_type": "markdown",
   "id": "af613c06-75d2-46c3-8aa5-a63e8fb5d3cb",
   "metadata": {},
   "source": [
    "We also create a confusion matrix like we did with the statistical learning models in the supervised learning lab notebook.  Recall that confusion matrix is a table that summarizes the performance of a classification model by showing the counts of correct and incorrect predictions for each class. It displays true positives, true negatives, false positives, and false negatives, helping to visualize errors and evaluate metrics like accuracy."
   ]
  },
  {
   "cell_type": "code",
   "execution_count": null,
   "id": "2ae132bf-45e3-4454-8cb6-c572297763ab",
   "metadata": {},
   "outputs": [],
   "source": [
    "y_pred_prob_smp = model_srnn.predict(x_test)\n",
    "y_pred_smp = (y_pred_prob_smp > 0.5).astype(int)\n",
    "\n",
    "\n",
    "cnf_smp = confusion_matrix(y_test,y_pred_smp)\n",
    "ax_smp = ConfusionMatrixDisplay(confusion_matrix=cnf_smp,display_labels=['phishing','normal']).plot()\n",
    "plt.title(\"Confusion Matrix\")\n",
    "plt.show()"
   ]
  },
  {
   "cell_type": "code",
   "execution_count": null,
   "id": "bb4f7d61-ec2d-4da3-b3c8-78c328970e10",
   "metadata": {},
   "outputs": [],
   "source": [
    "# Evaluate the model on the test set\n",
    "srnn_loss, srnn_accu = model_srnn.evaluate(x_test, y_test, verbose=0)\n",
    "\n",
    "srnn_accu = (srnn_accu*100)\n",
    "\n",
    "# Display the accuracy value\n",
    "print(f'The accuracy of the SRNN model on the test data set was: {srnn_accu:.4f}')"
   ]
  },
  {
   "cell_type": "markdown",
   "id": "9a05ec1a-26d0-4ed2-b08a-b3485e7b0f84",
   "metadata": {},
   "source": [
    "## LTSM\n",
    "\n",
    "An LSTM (Long Short-Term Memory) neural network is a type of recurrent neural network (RNN) designed to capture long-term dependencies in sequential data by using memory cells and gating mechanisms to retain or forget information over time. LSTMs are widely used for tasks involving time series data, natural language processing, and sequence prediction, such as forecasting stock prices, analyzing text sentiment, generating music, and translating languages, due to their ability to model and retain patterns over long sequences.\n",
    "\n",
    "We configure the layers of the model similar to the SRNN model - note the drastic improvement in accuracy."
   ]
  },
  {
   "cell_type": "code",
   "execution_count": null,
   "id": "61136d61-5da7-42a7-ae0a-3f2fd924b365",
   "metadata": {},
   "outputs": [],
   "source": [
    "model_lstm = Sequential() # Sequential() API\n",
    "model_lstm.add(Embedding(len(tk.word_index)+1,50))\n",
    "model_lstm.add(LSTM(units=100))\n",
    "model_lstm.add(Dropout(0.5))\n",
    "model_lstm.add(Dense(1, activation='sigmoid'))"
   ]
  },
  {
   "cell_type": "code",
   "execution_count": null,
   "id": "cdc623ba-ed84-4f7e-9c4a-d0eec5e2f692",
   "metadata": {},
   "outputs": [],
   "source": [
    "model_lstm.compile(loss='binary_crossentropy' , optimizer='adam', metrics=['accuracy'])"
   ]
  },
  {
   "cell_type": "code",
   "execution_count": null,
   "id": "0ca57d1a-2bc9-40f8-885f-3d274da3ea7d",
   "metadata": {},
   "outputs": [],
   "source": [
    "historical_lstm  = model_lstm.fit(x_train,y_train, epochs=20, batch_size=16, validation_data=(x_test,y_test))"
   ]
  },
  {
   "cell_type": "code",
   "execution_count": null,
   "id": "c70c247a-aea8-4b6c-8922-08f1095311af",
   "metadata": {},
   "outputs": [],
   "source": [
    "lstm_results = model_lstm.evaluate(x_test, y_test)\n",
    "lstm_loss = lstm_results[0]  # Extract the loss from the results\n",
    "lstm_accu = (lstm_results[1]*100)  # Extract the accuracy from the results\n",
    "\n",
    "print(f\"Model Loss: {lstm_loss}\")\n",
    "print(f\"Model Accuracy: {lstm_accu}\")"
   ]
  },
  {
   "cell_type": "code",
   "execution_count": null,
   "id": "198118d1-a346-4099-9429-a1c1c31fbe81",
   "metadata": {},
   "outputs": [],
   "source": [
    "y_pred_prob = model_lstm.predict(x_test)\n",
    "y_pred = (y_pred_prob > 0.5).astype(int)"
   ]
  },
  {
   "cell_type": "code",
   "execution_count": null,
   "id": "4cc49587-9271-4168-aad0-c0d642073953",
   "metadata": {},
   "outputs": [],
   "source": [
    "pd.DataFrame(historical_lstm.history)\n",
    "\n",
    "pd.DataFrame(historical_lstm.history)[['accuracy', 'val_accuracy']].plot()\n",
    "plt.title('Training Accuracy')\n",
    "plt.xlabel('Epochs')\n",
    "plt.ylabel('accuracy')\n",
    "\n",
    "pd.DataFrame(historical_lstm.history)[['loss', 'val_loss']].plot()\n",
    "plt.title('Model Loss')\n",
    "plt.xlabel('Epochs')\n",
    "plt.ylabel('Loss')"
   ]
  },
  {
   "cell_type": "code",
   "execution_count": null,
   "id": "be4fbd20-588f-4165-b84f-f2943bd751a3",
   "metadata": {},
   "outputs": [],
   "source": [
    "cnf = confusion_matrix(y_test,y_pred)\n",
    "ax = ConfusionMatrixDisplay(confusion_matrix=cnf,display_labels=['pishing','normal'])\n",
    "ax.plot()\n",
    "plt.title(\"Confusion Matrix\")\n",
    "plt.show()"
   ]
  },
  {
   "cell_type": "markdown",
   "id": "3eeeef5d-62db-4b7f-8a92-9171dd0a0cb1",
   "metadata": {},
   "source": [
    "## Bidirectional\n",
    "\n",
    "A bidirectional neural network is a type of RNN that processes sequence data in both forward and backward directions, allowing it to capture context from both past and future states. This architecture is particularly useful in natural language processing tasks like speech recognition and text translation, where understanding the full context of a word or phrase requires information from both previous and subsequent elements in the sequence."
   ]
  },
  {
   "cell_type": "code",
   "execution_count": null,
   "id": "a659e4e9-c477-4e90-90a4-a82ff56b6f46",
   "metadata": {},
   "outputs": [],
   "source": [
    "model_bi = Sequential() # Sequential() API\n",
    "model_bi.add(Embedding(len(tk.word_index)+1,50))\n",
    "model_bi.add(Bidirectional(LSTM(units=100)))\n",
    "model_bi.add(Dropout(0.5))\n",
    "model_bi.add(Dense(1, activation='sigmoid'))"
   ]
  },
  {
   "cell_type": "code",
   "execution_count": null,
   "id": "c8d79d71-a3c3-453a-996a-fa72376167cd",
   "metadata": {},
   "outputs": [],
   "source": [
    "model_bi.compile(loss='binary_crossentropy' , optimizer='adam', metrics=['accuracy'])"
   ]
  },
  {
   "cell_type": "code",
   "execution_count": null,
   "id": "a80bd43c-999d-4c95-9242-3cf1b569652d",
   "metadata": {},
   "outputs": [],
   "source": [
    "historical_bi  = model_bi.fit(x_train,y_train, epochs=20, batch_size=16, validation_data=(x_test,y_test))"
   ]
  },
  {
   "cell_type": "code",
   "execution_count": null,
   "id": "301b7bc6-55f5-42d0-bb18-64fcb655b2e6",
   "metadata": {},
   "outputs": [],
   "source": [
    "bi_results = model_bi.evaluate(x_test, y_test)\n",
    "bi_loss = bi_results[0]  # Extract the loss from the results\n",
    "bi_accu = (bi_results[1]*100)  # Extract the accuracy from the results\n",
    "\n",
    "print(f\"Model Loss: {bi_loss}\")\n",
    "print(f\"Model Accuracy: {bi_accu}\")"
   ]
  },
  {
   "cell_type": "code",
   "execution_count": null,
   "id": "26bf4fcd-b7b4-4fe1-9510-bc8cc9932d42",
   "metadata": {},
   "outputs": [],
   "source": [
    "y_pred_prob_bi = model_bi.predict(x_test)\n",
    "y_pred_bi = (y_pred_prob_bi > 0.5).astype(int)"
   ]
  },
  {
   "cell_type": "code",
   "execution_count": null,
   "id": "e41494fc-050a-45de-b636-bc6b72a33dae",
   "metadata": {},
   "outputs": [],
   "source": [
    "pd.DataFrame(historical_bi.history)\n",
    "\n",
    "pd.DataFrame(historical_bi.history)[['accuracy', 'val_accuracy']].plot()\n",
    "plt.title('Training Accuracy')\n",
    "plt.xlabel('Epochs')\n",
    "plt.ylabel('accuracy')\n",
    "\n",
    "pd.DataFrame(historical_bi.history)[['loss', 'val_loss']].plot()\n",
    "plt.title('Model Loss')\n",
    "plt.xlabel('Epochs')\n",
    "plt.ylabel('Loss')"
   ]
  },
  {
   "cell_type": "code",
   "execution_count": null,
   "id": "49ab2c60-5199-4677-93c1-32c2586b177c",
   "metadata": {},
   "outputs": [],
   "source": [
    "cnf_bi = confusion_matrix(y_test,y_pred_bi)\n",
    "ax_bi = ConfusionMatrixDisplay(confusion_matrix=cnf_bi,display_labels=['Phishing','Normal'])\n",
    "ax_bi.plot()\n",
    "plt.show()"
   ]
  },
  {
   "cell_type": "markdown",
   "id": "65c8594c-d2c1-4bc4-b253-72ee7f3183c0",
   "metadata": {},
   "source": [
    "### Gated Recurrent Unit\n",
    "\n",
    "\n",
    "A Gated Recurrent Unit (GRU) neural network is a type of RNN that uses gating mechanisms to control the flow of information, making it simpler and more computationally efficient than LSTM networks while still capturing dependencies in sequential data. As with the previous models we have explored, GRUs are commonly used in tasks such as time series forecasting, speech recognition, and text generation, where they help to maintain relevant information across sequences without the complexity of LSTM’s multiple gates."
   ]
  },
  {
   "cell_type": "code",
   "execution_count": null,
   "id": "97e5d542-f833-4dcc-8625-75404cfe698b",
   "metadata": {},
   "outputs": [],
   "source": [
    "model_gru = Sequential() # Sequential() API\n",
    "model_gru.add(Embedding(len(tk.word_index)+1,50))\n",
    "model_gru.add(GRU(units=100))\n",
    "model_gru.add(Dropout(0.5))\n",
    "model_gru.add(Dense(1, activation='sigmoid'))"
   ]
  },
  {
   "cell_type": "code",
   "execution_count": null,
   "id": "d8f838ca-00c3-453a-a5c0-3381ed6b1dc2",
   "metadata": {},
   "outputs": [],
   "source": [
    "model_gru.compile(loss='binary_crossentropy' , optimizer='adam', metrics=['accuracy'])"
   ]
  },
  {
   "cell_type": "code",
   "execution_count": null,
   "id": "db06f468-1a48-4b26-9a12-400c9ec55aa6",
   "metadata": {},
   "outputs": [],
   "source": [
    "historical_gru = model_gru.fit(x_train,y_train, epochs=20, batch_size=16, validation_data=(x_test,y_test))"
   ]
  },
  {
   "cell_type": "code",
   "execution_count": null,
   "id": "ce0f03fb-7a85-4170-be70-7e9791c8b182",
   "metadata": {},
   "outputs": [],
   "source": [
    "gru_results = model_gru.evaluate(x_test, y_test)\n",
    "gru_loss = gru_results[0]  # Extract the loss from the results\n",
    "gru_accu = (gru_results[1]*100)  # Extract the accuracy from the results\n",
    "\n",
    "print(f\"Model Loss: {gru_loss}\")\n",
    "print(f\"Model Accuracy: {gru_accu}\")"
   ]
  },
  {
   "cell_type": "code",
   "execution_count": null,
   "id": "799f18b0-8afb-45ce-a7c7-e79a2a219613",
   "metadata": {},
   "outputs": [],
   "source": [
    "y_pred_prob_gru = model_gru.predict(x_test)\n",
    "y_pred_gru = (y_pred_prob_gru > 0.5).astype(int)"
   ]
  },
  {
   "cell_type": "code",
   "execution_count": null,
   "id": "d5a8e8e9-2ac2-4c79-b51b-527edb3e782d",
   "metadata": {},
   "outputs": [],
   "source": [
    "pd.DataFrame(historical_gru.history)\n",
    "\n",
    "pd.DataFrame(historical_gru.history)[['accuracy', 'val_accuracy']].plot()\n",
    "plt.title('Training Accuracy')\n",
    "plt.xlabel('Epochs')\n",
    "plt.ylabel('accuracy')\n",
    "\n",
    "pd.DataFrame(historical_gru.history)[['loss', 'val_loss']].plot()\n",
    "plt.title('Model Loss')\n",
    "plt.xlabel('Epochs')\n",
    "plt.ylabel('Loss')"
   ]
  },
  {
   "cell_type": "code",
   "execution_count": null,
   "id": "d0e7eed0-d897-4742-abd0-14d14a63c7c8",
   "metadata": {
    "jupyter": {
     "source_hidden": true
    }
   },
   "outputs": [],
   "source": [
    "cnf_gru = confusion_matrix(y_test,y_pred_gru)\n",
    "ax_gru = ConfusionMatrixDisplay(confusion_matrix=cnf_gru,display_labels=['Pishing','normal'])\n",
    "ax_gru.plot()\n",
    "plt.show()"
   ]
  },
  {
   "cell_type": "markdown",
   "id": "3ba33340-39f0-490b-8377-deb587641cad",
   "metadata": {},
   "source": [
    "# Model Comparisons"
   ]
  },
  {
   "cell_type": "code",
   "execution_count": null,
   "id": "710203ee-a60d-4aa1-9eea-1e12b20f37df",
   "metadata": {},
   "outputs": [],
   "source": [
    "# set up table of models and comparisons\n",
    "\n",
    "accu_values = [srnn_accu,lstm_accu, bi_accu, gru_accu]\n",
    "row_labels = [\"Simple RNN\", \"LSTM Neural Network\", \"Bidirectional Neural Network\", \"Gated Recurrent Unit\"]\n",
    "comp_df = pd.DataFrame(accu_values, columns=[\"accuracy\"], index=row_labels)\n",
    "print(comp_df)"
   ]
  },
  {
   "cell_type": "markdown",
   "id": "d502a959-b0af-4042-8bfb-4226b5026705",
   "metadata": {},
   "source": [
    "Further questions and CTF question ideas.\n",
    "- What is the accuracy of a model if we have the student train longer or add or subtract layers?\n",
    "- "
   ]
  }
 ],
 "metadata": {
  "kernelspec": {
   "display_name": "Python 3 (ipykernel)",
   "language": "python",
   "name": "python3"
  },
  "language_info": {
   "codemirror_mode": {
    "name": "ipython",
    "version": 3
   },
   "file_extension": ".py",
   "mimetype": "text/x-python",
   "name": "python",
   "nbconvert_exporter": "python",
   "pygments_lexer": "ipython3",
   "version": "3.10.14"
  }
 },
 "nbformat": 4,
 "nbformat_minor": 5
}
